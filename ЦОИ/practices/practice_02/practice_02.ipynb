{
 "cells": [
  {
   "cell_type": "markdown",
   "metadata": {
    "collapsed": false,
    "jupyter": {
     "outputs_hidden": false
    }
   },
   "source": [
    "# Цифровая обработка изображений\n",
    "\n",
    "© Бибиков С.А., к.т.н., доцент кафедры суперкомпьютеров и общей информатики, Самарский университет  \n",
    "© Петров М.В., старший преподаватель кафедры суперкомпьютеров и общей информатики, Самарский университет\n",
    "\n",
    "## Практика 2. Работа с изображениями\n",
    "\n",
    "### Содержание\n",
    "\n",
    "1. [Библиотеки работы с изображениями](#2.1-Библиотеки-для-работы-с-изображениями)\n",
    "2. [Получение изображений](#2.2-Получение-изображений)\n",
    "3. [Работа с RAW изображениями](#2.3-Работа-с-RAW-изображениями)\n"
   ]
  },
  {
   "cell_type": "markdown",
   "metadata": {
    "collapsed": false,
    "jupyter": {
     "outputs_hidden": false
    }
   },
   "source": [
    "### 2.1 Библиотеки для работы с изображениями\n",
    "\n",
    "Библиотеки Python для работы с изображениями:\n",
    "- `OpenCV`  \n",
    "  [OpenCV](https://opencv.org/) – библиотека алгоритмов компьютерного зрения, обработки изображений и численных алгоритмов общего назначения с открытым кодом. Реализована на C/C++, также разрабатывается для Python, Java, Ruby, Matlab, Lua и других языков. Может свободно использоваться в академических и коммерческих целях — распространяется в условиях лицензии BSD. Первая версия OpenCV была написана на C, начиная со второй версии был осуществлён переход на C++. Все новые разработки и алгоритмы появляются в API C++. Поддерживается привязки на Python, Java и MATLAB/Octave. Значительная часть проекта разработана российской компанией `Itseez`, поглощённой в мае 2016 года корпорацией `Intel`.\n",
    "- `Scikit-image`  \n",
    "  [Scikit-image](https://scikit-image.org/) - библиотека, написанная на Python, для обработки изображений. Она обеспечивает ввод/вывод изображений, преобразование, фильтрацию, сегментацию, выделение признаков, восстановление изображений и геометрические преобразования.\n",
    "- `SciPy`  \n",
    "  [SciPy](https://scipy.org/) – библиотека, предназначенная для выполнения научных и инженерных расчётов. Модуль `ndimage` предназначен для работы с многомерными изображениями. В библиотеке реализованы функции для выполнения фильтрации, морфологии, измерения объектов и B-сплайновой интерполяции.\n",
    "- `Pillow`  \n",
    "  [Pillow](https://pillow.readthedocs.io/en/stable/) является наследником проекта Python Imaging Library (PIL). PIL была библиотекой для работы с изображениями в Python. Однако, она работала только с Python 2 версии, разработка была прекращена в 2011 году. Pillow является fork'ом проекта PIL. Она поддерживает чтение изображений из различных форматов файлов в собственное внутреннее представление.  \n",
    "  Гайд: [Обработка изображений с помощью библиотеки Python Pillow @ Хабр](https://habr.com/ru/articles/681248/)\n"
   ]
  },
  {
   "cell_type": "markdown",
   "metadata": {
    "collapsed": false,
    "jupyter": {
     "outputs_hidden": false
    }
   },
   "source": [
    "#### OpenCV\n",
    "\n",
    "Библиотека состоит из отдельных модулей с более узкой специализацией:\n",
    "- `opencv_core` — основная функциональность, включает в себя базовые структуры, вычисления (математические функции, генераторы случайных чисел) и линейную алгебру, DFT, DCT, ввод-вывод для XML и YAML.\n",
    "- `opencv_imgproc` — обработка изображений (фильтрация, геометрические преобразования, преобразование цветовых пространств).\n",
    "- `opencv_highgui` — простой интерфейс, ввод-вывод изображений и видео.\n",
    "- `opencv_ml` — модели машинного обучения (SVM, деревья решений, обучение со стимулированием и т. д.).\n",
    "- `opencv_features2d` — распознавание и описание плоских примитивов (SURF, FAST и другие, включая специализированный фреймворк).\n",
    "- `opencv_video` — анализ движения и отслеживание объектов (оптический поток, шаблоны движения, устранение фона).\n",
    "- `opencv_objdetect` — обнаружение объектов на изображении (нахождение лиц с помощью алгоритма Виолы-Джонса, распознавание людей HOG).\n",
    "- `opencv_calib3d` — калибровка камеры, поиск стерео-соответствия и элементы обработки трёхмерных данных.\n",
    "- `opencv_flann` — библиотека быстрого поиска ближайших соседей (FLANN 1.5) и обёртки OpenCV.\n",
    "- `opencv_contrib` — сопутствующий код, ещё не готовый для применения.\n",
    "- `opencv_legacy` — устаревший код, сохранённый ради обратной совместимости.\n",
    "- `opencv_gpu` — ускорение некоторых функций OpenCV за счет CUDA, создан при поддержке NVIDIA.\n",
    "\n",
    "Установка базовой версии:\n",
    "\n",
    "```bash\n",
    "pip install opencv-python\n",
    "```\n",
    "\n",
    "или вместе с `contrib`:\n",
    "\n",
    "```bash\n",
    "pip install opencv-contrib-python\n",
    "```\n",
    "\n",
    "> Некоторые алгоритмы библиотеки являются проприетарной разработкой, поэтому они не включены в базовую поставку. Сборку библиотеки с non-free модулями необходимо производить самостоятельно из исходников. В результате компиляции библиотеки (C++ dll'ки) можно сгенерировать Python обертку при указании соответствующих флагов компиляции.\n",
    "\n",
    "Туториалы:\n",
    "- [OpenCV Python tutorial](https://docs.opencv.org/4.x/d6/d00/tutorial_py_root.html)\n",
    "- [OpenCV Tutorial: A Guide to Learn OpenCV @ PyImageSearch](https://pyimagesearch.com/2018/07/19/opencv-tutorial-a-guide-to-learn-opencv/)\n",
    "- [Шпаргалка по OpenCV — Python @ Tproger](https://tproger.ru/translations/opencv-python-guide)"
   ]
  },
  {
   "cell_type": "markdown",
   "metadata": {
    "collapsed": false,
    "jupyter": {
     "outputs_hidden": false
    }
   },
   "source": [
    "### 2.2 Получение изображений"
   ]
  },
  {
   "cell_type": "code",
   "execution_count": null,
   "metadata": {
    "collapsed": false,
    "jupyter": {
     "outputs_hidden": false
    }
   },
   "outputs": [],
   "source": [
    "import cv2 as cv\n",
    "import matplotlib.pyplot as plt\n",
    "import numpy as np\n",
    "from scipy import io as sio\n",
    "my_dpi = 96"
   ]
  },
  {
   "cell_type": "code",
   "execution_count": null,
   "metadata": {},
   "outputs": [],
   "source": [
    "image = cv.imread(\"data/IMG_1836_2048.png\")\n",
    "(h, w, d) = image.shape\n",
    "type(image), image.shape, image.dtype"
   ]
  },
  {
   "cell_type": "code",
   "execution_count": null,
   "metadata": {},
   "outputs": [],
   "source": [
    "fig, axs = plt.subplots(figsize=(w/my_dpi, h/my_dpi), dpi=my_dpi)\n",
    "plt.imshow(image)"
   ]
  },
  {
   "cell_type": "code",
   "execution_count": null,
   "metadata": {},
   "outputs": [],
   "source": [
    "# Преобразование BGR в RGB\n",
    "image = cv.cvtColor(image, cv.COLOR_BGR2RGB)\n",
    "fig, axs = plt.subplots(figsize=(w/my_dpi, h/my_dpi), dpi=my_dpi)\n",
    "plt.imshow(image)"
   ]
  },
  {
   "cell_type": "code",
   "execution_count": null,
   "metadata": {},
   "outputs": [],
   "source": [
    "# Преобразование RGB в полутоновое\n",
    "image_gray = cv.cvtColor(image, cv.COLOR_RGB2GRAY)\n",
    "fig, axs = plt.subplots(figsize=(w/my_dpi, h/my_dpi), dpi=my_dpi)\n",
    "plt.imshow(image_gray)"
   ]
  },
  {
   "cell_type": "code",
   "execution_count": null,
   "metadata": {},
   "outputs": [],
   "source": [
    "fig, axs = plt.subplots(figsize=(w/my_dpi, h/my_dpi), dpi=my_dpi)\n",
    "plt.imshow(image_gray, cmap='gray')"
   ]
  },
  {
   "cell_type": "code",
   "execution_count": null,
   "metadata": {},
   "outputs": [],
   "source": [
    "image_gray_01 = image_gray.astype(np.float32) / 255.0\n",
    "image_gray_01.dtype, image_gray_01.min(), image_gray_01.max()"
   ]
  },
  {
   "cell_type": "code",
   "execution_count": null,
   "metadata": {},
   "outputs": [],
   "source": [
    "image_f = image.astype(np.float32)\n",
    "image_f.dtype"
   ]
  },
  {
   "cell_type": "code",
   "execution_count": null,
   "metadata": {},
   "outputs": [],
   "source": [
    "image_f1 = cv.cvtColor(image_f, cv.COLOR_RGB2BGR)"
   ]
  },
  {
   "cell_type": "markdown",
   "metadata": {},
   "source": [
    "> Зачастую алгоритмы обработки изображений требуют приведение значения пикселя на изображении в диапазон $[0.0, 1.0]$. Так как обертка на питоне под капотом вызывает функции dll, написанной на C++, то необходимо для вызова некоторых функций библиотеки принудительно приводить тип данных к C++'ному float, который является 32 битным (4 байта). float в питоне по умолчанию является 64 битным."
   ]
  },
  {
   "cell_type": "code",
   "execution_count": null,
   "metadata": {},
   "outputs": [],
   "source": [
    "fig, axs = plt.subplots(figsize=(w/my_dpi, h/my_dpi), dpi=my_dpi)\n",
    "plt.imshow(image)"
   ]
  },
  {
   "cell_type": "code",
   "execution_count": null,
   "metadata": {},
   "outputs": [],
   "source": [
    "image.shape"
   ]
  },
  {
   "cell_type": "code",
   "execution_count": null,
   "metadata": {},
   "outputs": [],
   "source": [
    "# Изменение размера с сохранением соотношения сторон\n",
    "(h, w, d) = image.shape\n",
    "w_new = 1024\n",
    "r = float(w_new) / w\n",
    "dim = (w_new, int(h * r))\n",
    "image_resized = cv.resize(image, dim)\n",
    "(hn, wn, dn) = image_resized.shape\n",
    "fig, axs = plt.subplots(figsize=(wn/my_dpi, hn/my_dpi), dpi=my_dpi)\n",
    "plt.imshow(image_resized)"
   ]
  },
  {
   "cell_type": "code",
   "execution_count": null,
   "metadata": {},
   "outputs": [],
   "source": [
    "# Сохранение изображения\n",
    "image_resized_bgr = cv.cvtColor(image_resized, cv.COLOR_RGB2BGR)\n",
    "# JPG\n",
    "compression_option = [int(cv.IMWRITE_JPEG_QUALITY), 100]\n",
    "# PNG\n",
    "#compression_option = [int(cv.IMWRITE_PNG_COMPRESSION), 1]\n",
    "cv.imwrite(\"data/image_resized.jpg\", image_resized_bgr, compression_option)"
   ]
  },
  {
   "cell_type": "markdown",
   "metadata": {
    "collapsed": false,
    "jupyter": {
     "outputs_hidden": false
    }
   },
   "source": [
    "### 2.3 Работа с RAW изображениями\n",
    "\n",
    "Датасет - [INTEL-TAU](https://etsin.fairdata.fi/dataset/f0570a3f-3d77-4f44-9ef1-99ab4878f17c):\n",
    "- Сет `Sony_IMX135.zip` - разрешение $3264\\times2448$\n",
    "- RAW Image: 2 bytes per pixel raw format, storing the actual raw Bayer layout, the values can be read as uint16. Extension: '.plain16'.\n",
    "\n",
    "Статья: https://ieeexplore.ieee.org/document/9371681"
   ]
  },
  {
   "cell_type": "code",
   "execution_count": null,
   "metadata": {},
   "outputs": [],
   "source": [
    "import cv2 as cv\n",
    "import matplotlib.pyplot as plt\n",
    "import numpy as np\n",
    "from scipy import io as sio\n",
    "my_dpi = 96"
   ]
  },
  {
   "cell_type": "markdown",
   "metadata": {},
   "source": [
    "#### Загрузка метаинформации о RAW изображениях"
   ]
  },
  {
   "cell_type": "code",
   "execution_count": null,
   "metadata": {},
   "outputs": [],
   "source": [
    "frame_format = sio.loadmat('data/frame_format_sonyimx135.mat')\n",
    "frame_format"
   ]
  },
  {
   "cell_type": "code",
   "execution_count": null,
   "metadata": {},
   "outputs": [],
   "source": [
    "w, h = frame_format['width'][0, 0], frame_format['height'][0, 0]\n",
    "bpp = frame_format['bpp'][0, 0]\n",
    "sat_point = frame_format['satpoint'][0, 0]\n",
    "# uint16 -> int\n",
    "w = w.astype(int)\n",
    "h = h.astype(int)\n",
    "bpp = bpp.astype(int)"
   ]
  },
  {
   "cell_type": "markdown",
   "metadata": {},
   "source": [
    "#### Чтение RAW"
   ]
  },
  {
   "cell_type": "code",
   "execution_count": null,
   "metadata": {},
   "outputs": [],
   "source": [
    "with open('data/S_IMX135_field3cam_013.plain16', 'rb') as fd:\n",
    "    data_raw = np.fromfile(fd, dtype=np.uint16, count=w * h)\n",
    "print(f\"shape: {data_raw.shape}\")\n",
    "print(f\"min, max: {data_raw.min()}, {data_raw.max()}\")"
   ]
  },
  {
   "cell_type": "markdown",
   "metadata": {},
   "source": [
    "#### Решейп"
   ]
  },
  {
   "cell_type": "code",
   "execution_count": null,
   "metadata": {},
   "outputs": [],
   "source": [
    "image_raw = data_raw.reshape((h, w))\n",
    "image_raw.shape"
   ]
  },
  {
   "cell_type": "markdown",
   "metadata": {},
   "source": [
    "#### Нормализация - приведение к диапазону [0, 1]"
   ]
  },
  {
   "cell_type": "code",
   "execution_count": null,
   "metadata": {},
   "outputs": [],
   "source": [
    "image_raw = image_raw.astype(float) / (2 ** bpp - 1)\n",
    "image_raw.shape, image_raw.dtype"
   ]
  },
  {
   "cell_type": "code",
   "execution_count": null,
   "metadata": {},
   "outputs": [],
   "source": [
    "fig, axs = plt.subplots(figsize=(w/my_dpi, h/my_dpi), dpi=my_dpi)\n",
    "plt.imshow(image_raw, cmap='gray')"
   ]
  },
  {
   "cell_type": "markdown",
   "metadata": {},
   "source": [
    "#### Поворот"
   ]
  },
  {
   "cell_type": "code",
   "execution_count": null,
   "metadata": {},
   "outputs": [],
   "source": [
    "image_raw_rot = image_raw[::-1, ::-1]\n",
    "fig, axs = plt.subplots(figsize=(w/my_dpi, h/my_dpi), dpi=my_dpi)\n",
    "plt.imshow(image_raw_rot, cmap='gray')"
   ]
  },
  {
   "cell_type": "markdown",
   "metadata": {},
   "source": [
    "#### Фрагмент"
   ]
  },
  {
   "cell_type": "code",
   "execution_count": null,
   "metadata": {},
   "outputs": [],
   "source": [
    "image_raw_roi = image_raw_rot[800:1000, 1400:1800]\n",
    "hr, wr = image_raw_roi.shape\n",
    "fig, axs = plt.subplots(figsize=(wr/my_dpi, hr/my_dpi), dpi=my_dpi)\n",
    "plt.imshow(image_raw_roi, cmap='gray')"
   ]
  },
  {
   "cell_type": "markdown",
   "metadata": {},
   "source": [
    "#### Увеличенный фрагмент"
   ]
  },
  {
   "cell_type": "code",
   "execution_count": null,
   "metadata": {},
   "outputs": [],
   "source": [
    "m_factor = 3\n",
    "fig, axs = plt.subplots(figsize=(m_factor * wr/my_dpi, m_factor * hr/my_dpi), dpi=my_dpi)\n",
    "plt.imshow(image_raw_roi, cmap='gray')\n",
    "plt.show()"
   ]
  },
  {
   "cell_type": "markdown",
   "metadata": {},
   "source": [
    "#### Дебайеризация средствами OpenCV"
   ]
  },
  {
   "cell_type": "code",
   "execution_count": null,
   "metadata": {},
   "outputs": [],
   "source": [
    "image_raw_roi_rgb8 = (image_raw_roi * 255.0).astype(np.uint8)\n",
    "image_raw_roi_rgb8 = cv.cvtColor(image_raw_roi_rgb8, cv.COLOR_BayerGBRG2RGB)\n",
    "fig, axs = plt.subplots(figsize=(m_factor * wr/my_dpi, m_factor * hr/my_dpi), dpi=my_dpi)\n",
    "plt.imshow(image_raw_roi_rgb8)"
   ]
  },
  {
   "cell_type": "code",
   "execution_count": null,
   "metadata": {},
   "outputs": [],
   "source": [
    "image_raw_roi_rgb8 = (image_raw_roi * 255.0).astype(np.uint8)\n",
    "image_raw_roi_rgb8 = cv.cvtColor(image_raw_roi_rgb8, cv.COLOR_BayerGR2RGB)\n",
    "fig, axs = plt.subplots(figsize=(wr/my_dpi, hr/my_dpi), dpi=my_dpi)\n",
    "plt.imshow(image_raw_roi_rgb8)"
   ]
  },
  {
   "cell_type": "code",
   "execution_count": null,
   "metadata": {},
   "outputs": [],
   "source": [
    "image_raw_rgb8 = (image_raw_rot * 255.0).astype(np.uint8)\n",
    "image_raw_rgb8 = cv.cvtColor(image_raw_rgb8, cv.COLOR_BayerGR2RGB)\n",
    "# image_raw_rgb[:, :, 1] = (image_raw_rgb[:, :, 1].astype(float) / 2).astype(np.uint8)\n",
    "# image_raw_rgb = (image_raw_rgb.astype(float) * 1.3).astype(np.uint8)\n",
    "fig, axs = plt.subplots(figsize=(w/my_dpi, h/my_dpi), dpi=my_dpi)\n",
    "plt.imshow(image_raw_rgb8)"
   ]
  },
  {
   "cell_type": "markdown",
   "metadata": {},
   "source": [
    "#### 10 бит -> 16 бит"
   ]
  },
  {
   "cell_type": "code",
   "execution_count": null,
   "metadata": {},
   "outputs": [],
   "source": [
    "image_raw_rgb16 = (image_raw_rot * 65535.0).astype(np.uint16)\n",
    "image_raw_rgb16 = cv.cvtColor(image_raw_rgb16, cv.COLOR_BayerGR2RGB)"
   ]
  },
  {
   "cell_type": "markdown",
   "metadata": {},
   "source": [
    "#### Сохранение изображения"
   ]
  },
  {
   "cell_type": "code",
   "execution_count": null,
   "metadata": {},
   "outputs": [],
   "source": [
    "# Сохранение изображения\n",
    "# JPG\n",
    "# compression_option = [int(cv.IMWRITE_JPEG_QUALITY), 100]\n",
    "# PNG\n",
    "compression_option = [int(cv.IMWRITE_PNG_COMPRESSION), 1]\n",
    "cv.imwrite('data/S_IMX135_field3cam_013_ocv.png', cv.cvtColor(image_raw_rgb8, cv.COLOR_RGB2BGR), compression_option)\n",
    "cv.imwrite('data/S_IMX135_field3cam_013_ocv_16.png', cv.cvtColor(image_raw_rgb16, cv.COLOR_RGB2BGR), compression_option)"
   ]
  },
  {
   "cell_type": "markdown",
   "metadata": {},
   "source": [
    "#### Метаинформация\n",
    "##### Настройки камеры"
   ]
  },
  {
   "cell_type": "code",
   "execution_count": null,
   "metadata": {},
   "outputs": [],
   "source": [
    "with open('data/S_IMX135_field3cam_013.meta', 'r') as f:\n",
    "    meta_info_str = f.read()\n",
    "meta_info_str"
   ]
  },
  {
   "cell_type": "code",
   "execution_count": null,
   "metadata": {},
   "outputs": [],
   "source": [
    "meta_info_str = meta_info_str.replace('\\t', ' ')\n",
    "meta_info = meta_info_str.split('\\n')\n",
    "meta_info"
   ]
  },
  {
   "cell_type": "markdown",
   "metadata": {},
   "source": [
    "##### Точка белого\n",
    "> Ground truth: This file contains the white point in [R/G, B/G] format. Extension: '.wp'."
   ]
  },
  {
   "cell_type": "code",
   "execution_count": null,
   "metadata": {},
   "outputs": [],
   "source": [
    "with open('data/S_IMX135_field3cam_013.wp', 'r') as f:\n",
    "    wp_str = f.read()\n",
    "wp_str"
   ]
  },
  {
   "cell_type": "code",
   "execution_count": null,
   "metadata": {},
   "outputs": [],
   "source": [
    "wp = np.fromstring(wp_str, sep='\\t')\n",
    "wp"
   ]
  },
  {
   "cell_type": "markdown",
   "metadata": {},
   "source": [
    "##### Матрица перехода из RGB в sRGB\n",
    "> Color Correction Matrix: The color correction matrix from sensor RGB to sRGB. It is stored as a 1x9 vector. Extension: '.ccm'."
   ]
  },
  {
   "cell_type": "code",
   "execution_count": null,
   "metadata": {},
   "outputs": [],
   "source": [
    "with open('data/S_IMX135_field3cam_013.ccm', 'r') as f:\n",
    "    ccm_str = f.read()\n",
    "ccm_str"
   ]
  },
  {
   "cell_type": "code",
   "execution_count": null,
   "metadata": {},
   "outputs": [],
   "source": [
    "ccm = np.fromstring(ccm_str, sep='\\t')\n",
    "ccm"
   ]
  },
  {
   "cell_type": "markdown",
   "metadata": {},
   "source": [
    "##### Точка белого и матрицы перехода для разных источников света\n",
    "> Стандартный источник света (также: стандартный осветитель) — это теоретический источник видимого света с опубликованным спектральным распределением мощности. Стандартные источники света служат основой для сравнения изображений или цветов, записанных при разном освещении."
   ]
  },
  {
   "cell_type": "code",
   "execution_count": null,
   "metadata": {},
   "outputs": [],
   "source": [
    "wps = sio.loadmat('data/reference_wps_ccms_sonyimx135.mat')\n",
    "wps"
   ]
  },
  {
   "cell_type": "code",
   "execution_count": null,
   "metadata": {},
   "outputs": [],
   "source": [
    "# Спектральный отклик\n",
    "# sr = sio.loadmat('data/sr_sonyimx135.mat')\n",
    "# sr"
   ]
  },
  {
   "cell_type": "markdown",
   "metadata": {},
   "source": [
    "#### Конечный ожидаемый результат"
   ]
  },
  {
   "cell_type": "code",
   "execution_count": null,
   "metadata": {},
   "outputs": [],
   "source": [
    "image_cc = cv.imread('data/S_IMX135_field3cam_013.jpg')\n",
    "image_cc = cv.cvtColor(image_cc, cv.COLOR_BGR2RGB)\n",
    "fig, axs = plt.subplots(1, 2, figsize=(13, 13), dpi=my_dpi)\n",
    "axs[0].imshow(image_raw_rgb8)\n",
    "axs[1].imshow(image_cc)"
   ]
  },
  {
   "cell_type": "code",
   "execution_count": null,
   "metadata": {},
   "outputs": [],
   "source": []
  }
 ],
 "metadata": {
  "kernelspec": {
   "display_name": "Python 3 (ipykernel)",
   "language": "python",
   "name": "python3"
  },
  "language_info": {
   "codemirror_mode": {
    "name": "ipython",
    "version": 3
   },
   "file_extension": ".py",
   "mimetype": "text/x-python",
   "name": "python",
   "nbconvert_exporter": "python",
   "pygments_lexer": "ipython3",
   "version": "3.10.10"
  }
 },
 "nbformat": 4,
 "nbformat_minor": 4
}
