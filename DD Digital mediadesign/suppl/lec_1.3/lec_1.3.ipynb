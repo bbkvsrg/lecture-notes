{
 "cells": [
  {
   "cell_type": "markdown",
   "metadata": {},
   "source": [
    "# Типы данных:\n",
    "\n",
    "![title](img/types.png)\n",
    "\n",
    "# Кортежи (Tuples, неизменяемые, упорядоченные)\n",
    "## Создание\n",
    "### С помощью встроенной функции tuple()"
   ]
  },
  {
   "cell_type": "code",
   "execution_count": 1,
   "metadata": {},
   "outputs": [
    {
     "name": "stdout",
     "output_type": "stream",
     "text": [
      "()\n"
     ]
    }
   ],
   "source": [
    "a = tuple()\n",
    "print(a)"
   ]
  },
  {
   "cell_type": "code",
   "execution_count": 2,
   "metadata": {},
   "outputs": [
    {
     "name": "stdout",
     "output_type": "stream",
     "text": [
      "(1, 2, 3)\n"
     ]
    }
   ],
   "source": [
    "a = tuple([1, 2, 3])\n",
    "print(a)"
   ]
  },
  {
   "cell_type": "code",
   "execution_count": 3,
   "metadata": {},
   "outputs": [
    {
     "name": "stdout",
     "output_type": "stream",
     "text": [
      "(1, '2', 1.0)\n"
     ]
    }
   ],
   "source": [
    "a = tuple([1, \"2\", 1.0])\n",
    "print(a)"
   ]
  },
  {
   "cell_type": "code",
   "execution_count": 4,
   "metadata": {},
   "outputs": [
    {
     "name": "stdout",
     "output_type": "stream",
     "text": [
      "('t', 'e', 's', 't')\n"
     ]
    }
   ],
   "source": [
    "a = tuple('test')\n",
    "print(a)"
   ]
  },
  {
   "cell_type": "markdown",
   "metadata": {},
   "source": [
    "### С помощью присваивания"
   ]
  },
  {
   "cell_type": "code",
   "execution_count": 5,
   "metadata": {},
   "outputs": [
    {
     "name": "stdout",
     "output_type": "stream",
     "text": [
      "()\n"
     ]
    }
   ],
   "source": [
    "a = ()\n",
    "print(a)"
   ]
  },
  {
   "cell_type": "code",
   "execution_count": 6,
   "metadata": {},
   "outputs": [
    {
     "name": "stdout",
     "output_type": "stream",
     "text": [
      "(1, 2, 3)\n"
     ]
    }
   ],
   "source": [
    "a = 1, 2 ,3\n",
    "print(a)"
   ]
  },
  {
   "cell_type": "code",
   "execution_count": 7,
   "metadata": {},
   "outputs": [
    {
     "name": "stdout",
     "output_type": "stream",
     "text": [
      "(1, 2, 3)\n"
     ]
    }
   ],
   "source": [
    "a = (1, 2, 3)\n",
    "print(a)"
   ]
  },
  {
   "cell_type": "code",
   "execution_count": 8,
   "metadata": {},
   "outputs": [
    {
     "name": "stdout",
     "output_type": "stream",
     "text": [
      "('one', 'two')\n"
     ]
    }
   ],
   "source": [
    "a = ('one', 'two')\n",
    "print(a)"
   ]
  },
  {
   "cell_type": "code",
   "execution_count": 9,
   "metadata": {},
   "outputs": [
    {
     "data": {
      "text/plain": [
       "'one'"
      ]
     },
     "execution_count": 9,
     "metadata": {},
     "output_type": "execute_result"
    }
   ],
   "source": [
    "a[0]"
   ]
  },
  {
   "cell_type": "code",
   "execution_count": 10,
   "metadata": {},
   "outputs": [
    {
     "name": "stdout",
     "output_type": "stream",
     "text": [
      "one <class 'str'>\n"
     ]
    }
   ],
   "source": [
    "a = ('one')\n",
    "print(a, type(a))"
   ]
  },
  {
   "cell_type": "code",
   "execution_count": 11,
   "metadata": {},
   "outputs": [
    {
     "name": "stdout",
     "output_type": "stream",
     "text": [
      "('one',) <class 'tuple'>\n"
     ]
    }
   ],
   "source": [
    "a = ('one',)\n",
    "print(a, type(a))"
   ]
  },
  {
   "cell_type": "markdown",
   "metadata": {},
   "source": [
    "### Методы\n",
    "Аналогично спискам (рассмотрим далее), можно использовать любые методы, которые не изменяют список."
   ]
  },
  {
   "cell_type": "markdown",
   "metadata": {},
   "source": [
    "Пример, который мы уже разбирали. Поменять местами значения двух переменных."
   ]
  },
  {
   "cell_type": "code",
   "execution_count": null,
   "metadata": {},
   "outputs": [],
   "source": [
    "a = 1\n",
    "b = 2\n",
    "c = a\n",
    "a = b\n",
    "b = c\n",
    "print(a, b)"
   ]
  },
  {
   "cell_type": "code",
   "execution_count": null,
   "metadata": {},
   "outputs": [],
   "source": [
    "a = 1\n",
    "b = 2\n",
    "a, b = b, a\n",
    "print(a, b)"
   ]
  },
  {
   "cell_type": "markdown",
   "metadata": {},
   "source": [
    "# Списки (Lists, изменяемые, упорядоченные)\n",
    "## Создание\n",
    "### С помощью встроенной функции list()"
   ]
  },
  {
   "cell_type": "code",
   "execution_count": 12,
   "metadata": {},
   "outputs": [
    {
     "name": "stdout",
     "output_type": "stream",
     "text": [
      "[]\n"
     ]
    }
   ],
   "source": [
    "l = list()\n",
    "print(l)"
   ]
  },
  {
   "cell_type": "code",
   "execution_count": 13,
   "metadata": {},
   "outputs": [
    {
     "name": "stdout",
     "output_type": "stream",
     "text": [
      "[0, 1, 2]\n"
     ]
    }
   ],
   "source": [
    "l = list(range(3))\n",
    "print(l)"
   ]
  },
  {
   "cell_type": "code",
   "execution_count": 14,
   "metadata": {},
   "outputs": [
    {
     "name": "stdout",
     "output_type": "stream",
     "text": [
      "['a', 'b', 'c']\n"
     ]
    }
   ],
   "source": [
    "l = list(\"abc\")\n",
    "print(l)"
   ]
  },
  {
   "cell_type": "code",
   "execution_count": 15,
   "metadata": {},
   "outputs": [
    {
     "name": "stdout",
     "output_type": "stream",
     "text": [
      "[1, 2, 3]\n"
     ]
    }
   ],
   "source": [
    "l = list((1, 2, 3))\n",
    "print(l)"
   ]
  },
  {
   "cell_type": "code",
   "execution_count": 16,
   "metadata": {},
   "outputs": [
    {
     "name": "stdout",
     "output_type": "stream",
     "text": [
      "[1, 't', -3.0]\n"
     ]
    }
   ],
   "source": [
    "l = list((1, \"t\", -3.0))\n",
    "print(l)"
   ]
  },
  {
   "cell_type": "markdown",
   "metadata": {},
   "source": [
    "### С помощью присваивания"
   ]
  },
  {
   "cell_type": "code",
   "execution_count": 17,
   "metadata": {},
   "outputs": [
    {
     "name": "stdout",
     "output_type": "stream",
     "text": [
      "[]\n"
     ]
    }
   ],
   "source": [
    "l = []\n",
    "print(l)"
   ]
  },
  {
   "cell_type": "code",
   "execution_count": 18,
   "metadata": {},
   "outputs": [
    {
     "name": "stdout",
     "output_type": "stream",
     "text": [
      "['d', 1, -9940.0, 'ff']\n"
     ]
    }
   ],
   "source": [
    "l = [\"d\", 1, -99.4e2, 'ff']\n",
    "print(l)"
   ]
  },
  {
   "cell_type": "markdown",
   "metadata": {},
   "source": [
    "### С помощью генератора списков"
   ]
  },
  {
   "cell_type": "code",
   "execution_count": 19,
   "metadata": {},
   "outputs": [
    {
     "name": "stdout",
     "output_type": "stream",
     "text": [
      "[3, 6, 9, 12, 15, 18, 21, 24, 27, 30, 33, 36, 39, 42, 45, 48, 51, 54, 57, 60, 63, 66, 69, 72, 75, 78, 81, 84, 87, 90, 93, 96, 99]\n"
     ]
    }
   ],
   "source": [
    "l = [i for i in range(3, 100, 3)]\n",
    "print(l)"
   ]
  },
  {
   "cell_type": "code",
   "execution_count": 20,
   "metadata": {},
   "outputs": [
    {
     "name": "stdout",
     "output_type": "stream",
     "text": [
      "[1, 4, 9, 25, 49, 121, 169, 289]\n"
     ]
    }
   ],
   "source": [
    "a = [1, 2, 3, 5, 7, 11, 13, 17]\n",
    "l = [i ** 2 for i in a]\n",
    "print(l)"
   ]
  },
  {
   "cell_type": "code",
   "execution_count": 21,
   "metadata": {},
   "outputs": [
    {
     "name": "stdout",
     "output_type": "stream",
     "text": [
      "['q', 'w', 'e', 'r', 't', 'y']\n"
     ]
    }
   ],
   "source": [
    "a = \"1q2w3@e4r%5t6y\"\n",
    "l = [i for i in a if i.isalpha()]\n",
    "print(l)"
   ]
  },
  {
   "cell_type": "markdown",
   "metadata": {},
   "source": [
    "## Обращение к элементам (срезы)"
   ]
  },
  {
   "cell_type": "markdown",
   "metadata": {},
   "source": [
    "#### Простое обращение к злементу списка"
   ]
  },
  {
   "cell_type": "code",
   "execution_count": 25,
   "metadata": {},
   "outputs": [
    {
     "name": "stdout",
     "output_type": "stream",
     "text": [
      "1 3 17\n",
      "17 13 1\n"
     ]
    }
   ],
   "source": [
    "l = [1, 2, 3, 5, 7, 11, 13, 17]\n",
    "\n",
    "print(l[0], l[2], l[len(l) - 1])\n",
    "\n",
    "print(l[-1], l[-2], l[-len(l)])"
   ]
  },
  {
   "cell_type": "code",
   "execution_count": 27,
   "metadata": {},
   "outputs": [
    {
     "ename": "IndexError",
     "evalue": "list index out of range",
     "output_type": "error",
     "traceback": [
      "\u001b[1;31m---------------------------------------------------------------------------\u001b[0m",
      "\u001b[1;31mIndexError\u001b[0m                                Traceback (most recent call last)",
      "Cell \u001b[1;32mIn[27], line 1\u001b[0m\n\u001b[1;32m----> 1\u001b[0m \u001b[38;5;28mprint\u001b[39m(\u001b[43ml\u001b[49m\u001b[43m[\u001b[49m\u001b[38;5;241;43m-\u001b[39;49m\u001b[38;5;241;43m100\u001b[39;49m\u001b[43m]\u001b[49m, l[\u001b[38;5;241m100\u001b[39m])\n",
      "\u001b[1;31mIndexError\u001b[0m: list index out of range"
     ]
    }
   ],
   "source": [
    "print(l[-100], l[100])"
   ]
  },
  {
   "cell_type": "markdown",
   "metadata": {},
   "source": [
    "#### Срезы \n",
    "list[start:stop:step]"
   ]
  },
  {
   "cell_type": "code",
   "execution_count": 28,
   "metadata": {},
   "outputs": [],
   "source": [
    "l = [1, 2, 3, 5, 7, 11, 13, 17]"
   ]
  },
  {
   "cell_type": "code",
   "execution_count": 29,
   "metadata": {},
   "outputs": [
    {
     "name": "stdout",
     "output_type": "stream",
     "text": [
      "[2, 3]\n"
     ]
    }
   ],
   "source": [
    "print(l[1:3])"
   ]
  },
  {
   "cell_type": "code",
   "execution_count": 30,
   "metadata": {},
   "outputs": [
    {
     "name": "stdout",
     "output_type": "stream",
     "text": [
      "[2, 5, 11]\n"
     ]
    }
   ],
   "source": [
    "print(l[1:6:2])"
   ]
  },
  {
   "cell_type": "code",
   "execution_count": 33,
   "metadata": {},
   "outputs": [
    {
     "name": "stdout",
     "output_type": "stream",
     "text": [
      "[]\n"
     ]
    }
   ],
   "source": [
    "print(l[1:6:-2])"
   ]
  },
  {
   "cell_type": "code",
   "execution_count": 34,
   "metadata": {},
   "outputs": [
    {
     "name": "stdout",
     "output_type": "stream",
     "text": [
      "[5, 7, 11, 13, 17]\n"
     ]
    }
   ],
   "source": [
    "print(l[3:])"
   ]
  },
  {
   "cell_type": "code",
   "execution_count": 35,
   "metadata": {},
   "outputs": [
    {
     "name": "stdout",
     "output_type": "stream",
     "text": [
      "[1, 2, 3, 5]\n"
     ]
    }
   ],
   "source": [
    "print(l[:4])"
   ]
  },
  {
   "cell_type": "code",
   "execution_count": 36,
   "metadata": {},
   "outputs": [
    {
     "name": "stdout",
     "output_type": "stream",
     "text": [
      "[1, 2, 3, 5, 7, 11, 13, 17]\n"
     ]
    }
   ],
   "source": [
    "print(l[:])"
   ]
  },
  {
   "cell_type": "code",
   "execution_count": 37,
   "metadata": {},
   "outputs": [
    {
     "name": "stdout",
     "output_type": "stream",
     "text": [
      "[1, 2, 3, 5]\n"
     ]
    }
   ],
   "source": [
    "print(l[:-4])"
   ]
  },
  {
   "cell_type": "code",
   "execution_count": 38,
   "metadata": {},
   "outputs": [
    {
     "name": "stdout",
     "output_type": "stream",
     "text": [
      "[1, 3, 7, 13]\n"
     ]
    }
   ],
   "source": [
    "print(l[::2])"
   ]
  },
  {
   "cell_type": "code",
   "execution_count": 39,
   "metadata": {},
   "outputs": [
    {
     "name": "stdout",
     "output_type": "stream",
     "text": [
      "[17, 11, 5, 2]\n"
     ]
    }
   ],
   "source": [
    "print(l[::-2])"
   ]
  },
  {
   "cell_type": "code",
   "execution_count": 40,
   "metadata": {},
   "outputs": [
    {
     "name": "stdout",
     "output_type": "stream",
     "text": [
      "[]\n"
     ]
    }
   ],
   "source": [
    "print(l[20:25])"
   ]
  },
  {
   "cell_type": "code",
   "execution_count": 41,
   "metadata": {},
   "outputs": [
    {
     "name": "stdout",
     "output_type": "stream",
     "text": [
      "[]\n"
     ]
    }
   ],
   "source": [
    "print(l[-25:-20])"
   ]
  },
  {
   "cell_type": "code",
   "execution_count": 44,
   "metadata": {},
   "outputs": [
    {
     "name": "stdout",
     "output_type": "stream",
     "text": [
      "[1, 2, 3, 5, 7, 11, 13, 17]\n"
     ]
    }
   ],
   "source": [
    "print(l[-20:20])"
   ]
  },
  {
   "cell_type": "code",
   "execution_count": 45,
   "metadata": {},
   "outputs": [
    {
     "name": "stdout",
     "output_type": "stream",
     "text": [
      "[17, 13, 11, 7, 5, 3, 2, 1]\n"
     ]
    }
   ],
   "source": [
    "print(l[::-1])"
   ]
  },
  {
   "cell_type": "code",
   "execution_count": 46,
   "metadata": {},
   "outputs": [
    {
     "name": "stdout",
     "output_type": "stream",
     "text": [
      "[1, [2, 3], 4]\n",
      "[4, [2, 3], 1]\n"
     ]
    }
   ],
   "source": [
    "l1 = [1, [2, 3], 4]\n",
    "l2 = l1[::-1]\n",
    "print(l1)\n",
    "print(l2)"
   ]
  },
  {
   "cell_type": "code",
   "execution_count": 47,
   "metadata": {},
   "outputs": [
    {
     "name": "stdout",
     "output_type": "stream",
     "text": [
      "[1, [11, 3], 4]\n",
      "[4, [11, 3], 1]\n"
     ]
    }
   ],
   "source": [
    "l2[1][0] = 11\n",
    "print(l1)\n",
    "print(l2)"
   ]
  },
  {
   "cell_type": "markdown",
   "metadata": {},
   "source": [
    "#### Изменение списка посредством срезов"
   ]
  },
  {
   "cell_type": "code",
   "execution_count": 50,
   "metadata": {},
   "outputs": [
    {
     "name": "stdout",
     "output_type": "stream",
     "text": [
      "[1, 2, 3, 5, 7, 11, 13, 17]\n",
      "[1, 55, 3, 66, 7, 77, 13, 17]\n"
     ]
    }
   ],
   "source": [
    "l = [1, 2, 3, 5, 7, 11, 13, 17]\n",
    "print(l)\n",
    "l[1:6:2] = [55, 66, 77]\n",
    "print(l)"
   ]
  },
  {
   "cell_type": "code",
   "execution_count": 51,
   "metadata": {},
   "outputs": [
    {
     "name": "stdout",
     "output_type": "stream",
     "text": [
      "[55, 66, 77, 17]\n"
     ]
    }
   ],
   "source": [
    "del l[::2]\n",
    "print(l)"
   ]
  },
  {
   "cell_type": "markdown",
   "metadata": {},
   "source": [
    "## Методы"
   ]
  },
  {
   "cell_type": "markdown",
   "metadata": {},
   "source": [
    "#### Добавление элемента в конец списка"
   ]
  },
  {
   "cell_type": "code",
   "execution_count": 57,
   "metadata": {},
   "outputs": [
    {
     "name": "stdout",
     "output_type": "stream",
     "text": [
      "[0, 1, 2, 3, 4]\n",
      "[0, 1, 2, 3, 4, 5]\n"
     ]
    }
   ],
   "source": [
    "l = list(range(5))\n",
    "print(l)\n",
    "l.append(5)\n",
    "print(l)"
   ]
  },
  {
   "cell_type": "markdown",
   "metadata": {},
   "source": [
    "#### Очистка"
   ]
  },
  {
   "cell_type": "code",
   "execution_count": 58,
   "metadata": {},
   "outputs": [
    {
     "name": "stdout",
     "output_type": "stream",
     "text": [
      "[0, 1, 2, 3, 4]\n",
      "[]\n"
     ]
    }
   ],
   "source": [
    "l = list(range(5))\n",
    "print(l)\n",
    "l.clear()\n",
    "print(l)"
   ]
  },
  {
   "cell_type": "markdown",
   "metadata": {},
   "source": [
    "#### Поверхностная копия\n",
    "(элементы списка-копии будут ссылаться на объекты первого списка)"
   ]
  },
  {
   "cell_type": "code",
   "execution_count": 59,
   "metadata": {},
   "outputs": [
    {
     "name": "stdout",
     "output_type": "stream",
     "text": [
      "['a', 1, [1, 2]] ['a', 1, [1, 2]]\n",
      "['a', 1, [1, 5]] ['a', 1, [1, 5]]\n"
     ]
    }
   ],
   "source": [
    "l1 = [\"a\", 1, [1, 2]]\n",
    "\n",
    "l2 = l1.copy()\n",
    "print(l1, l2)\n",
    "\n",
    "l2[2][1] = 5\n",
    "print(l1, l2)"
   ]
  },
  {
   "cell_type": "markdown",
   "metadata": {},
   "source": [
    "![title](img/lists.png)"
   ]
  },
  {
   "cell_type": "markdown",
   "metadata": {},
   "source": [
    "#### Количество элементов с заданным значением"
   ]
  },
  {
   "cell_type": "code",
   "execution_count": 62,
   "metadata": {},
   "outputs": [
    {
     "name": "stdout",
     "output_type": "stream",
     "text": [
      "1\n"
     ]
    }
   ],
   "source": [
    "l = [1, 5, 2, 1, 4, 8, 1, 2]\n",
    "res = l.count(5)\n",
    "print(res)"
   ]
  },
  {
   "cell_type": "markdown",
   "metadata": {},
   "source": [
    "#### Расширение списка методом extend"
   ]
  },
  {
   "cell_type": "code",
   "execution_count": 63,
   "metadata": {},
   "outputs": [
    {
     "name": "stdout",
     "output_type": "stream",
     "text": [
      "[0, 1, 2, 3, 4]\n",
      "[5, 6, 7, 8, 9]\n",
      "[0, 1, 2, 3, 4, 5, 6, 7, 8, 9]\n"
     ]
    }
   ],
   "source": [
    "l1 = list(range(5))\n",
    "print(l1)\n",
    "l2 = list(range(5, 10))\n",
    "print(l2)\n",
    "l1.extend(l2)\n",
    "print(l1)"
   ]
  },
  {
   "cell_type": "markdown",
   "metadata": {},
   "source": [
    "#### Расширение списка методом через +"
   ]
  },
  {
   "cell_type": "code",
   "execution_count": 64,
   "metadata": {},
   "outputs": [
    {
     "name": "stdout",
     "output_type": "stream",
     "text": [
      "[0, 1, 2, 3, 4]\n",
      "[5, 6, 7, 8, 9]\n",
      "[0, 1, 2, 3, 4, 5, 6, 7, 8, 9]\n"
     ]
    }
   ],
   "source": [
    "l1 = list(range(5))\n",
    "print(l1)\n",
    "l2 = list(range(5, 10))\n",
    "print(l2)\n",
    "l3 = l1 + l2\n",
    "print(l3)"
   ]
  },
  {
   "cell_type": "markdown",
   "metadata": {},
   "source": [
    "#### Поиск элемента\n",
    "(возвращается индекс первого вхождения элемента в заданном интервале индексов (если интервал указан))"
   ]
  },
  {
   "cell_type": "code",
   "execution_count": 71,
   "metadata": {},
   "outputs": [
    {
     "name": "stdout",
     "output_type": "stream",
     "text": [
      "3\n",
      "6\n",
      "0\n"
     ]
    }
   ],
   "source": [
    "l = [1, 5, 2, 1, 4, 8, 1, 2]\n",
    "i = l.index(1, 2, 5)\n",
    "print(i)\n",
    "\n",
    "i = l.index(1, 4)\n",
    "print(i)\n",
    "\n",
    "\n",
    "i = l.index(1)\n",
    "print(i)"
   ]
  },
  {
   "cell_type": "code",
   "execution_count": 72,
   "metadata": {},
   "outputs": [
    {
     "ename": "ValueError",
     "evalue": "9 is not in list",
     "output_type": "error",
     "traceback": [
      "\u001b[1;31m---------------------------------------------------------------------------\u001b[0m",
      "\u001b[1;31mValueError\u001b[0m                                Traceback (most recent call last)",
      "Cell \u001b[1;32mIn[72], line 1\u001b[0m\n\u001b[1;32m----> 1\u001b[0m i \u001b[38;5;241m=\u001b[39m \u001b[43ml\u001b[49m\u001b[38;5;241;43m.\u001b[39;49m\u001b[43mindex\u001b[49m\u001b[43m(\u001b[49m\u001b[38;5;241;43m9\u001b[39;49m\u001b[43m)\u001b[49m\n\u001b[0;32m      2\u001b[0m \u001b[38;5;28mprint\u001b[39m(i)\n",
      "\u001b[1;31mValueError\u001b[0m: 9 is not in list"
     ]
    }
   ],
   "source": [
    "i = l.index(9)\n",
    "print(i)"
   ]
  },
  {
   "cell_type": "markdown",
   "metadata": {},
   "source": [
    "#### Вставка элемента в заданную позицию"
   ]
  },
  {
   "cell_type": "code",
   "execution_count": 73,
   "metadata": {},
   "outputs": [
    {
     "name": "stdout",
     "output_type": "stream",
     "text": [
      "[4, 3, 1, 0]\n",
      "[4, 3, 22, 1, 0]\n"
     ]
    }
   ],
   "source": [
    "l = [i for i in range(4, -1, -1) if i != 2]\n",
    "print(l)\n",
    "l.insert(2, 22)\n",
    "print(l)"
   ]
  },
  {
   "cell_type": "markdown",
   "metadata": {},
   "source": [
    "#### Извлечение i-го элемента"
   ]
  },
  {
   "cell_type": "code",
   "execution_count": 77,
   "metadata": {},
   "outputs": [
    {
     "name": "stdout",
     "output_type": "stream",
     "text": [
      "[4, 3, 2, 1, 0]\n",
      "[4, 3, 2, 0]\n",
      "1\n"
     ]
    }
   ],
   "source": [
    "l = [i for i in range(4, -1, -1)]\n",
    "print(l)\n",
    "val = l.pop(-2)\n",
    "print(l)\n",
    "print(val)"
   ]
  },
  {
   "cell_type": "code",
   "execution_count": 78,
   "metadata": {},
   "outputs": [
    {
     "ename": "IndexError",
     "evalue": "pop from empty list",
     "output_type": "error",
     "traceback": [
      "\u001b[1;31m---------------------------------------------------------------------------\u001b[0m",
      "\u001b[1;31mIndexError\u001b[0m                                Traceback (most recent call last)",
      "Cell \u001b[1;32mIn[78], line 2\u001b[0m\n\u001b[0;32m      1\u001b[0m l \u001b[38;5;241m=\u001b[39m []\n\u001b[1;32m----> 2\u001b[0m val \u001b[38;5;241m=\u001b[39m \u001b[43ml\u001b[49m\u001b[38;5;241;43m.\u001b[39;49m\u001b[43mpop\u001b[49m\u001b[43m(\u001b[49m\u001b[38;5;241;43m1\u001b[39;49m\u001b[43m)\u001b[49m\n",
      "\u001b[1;31mIndexError\u001b[0m: pop from empty list"
     ]
    }
   ],
   "source": [
    "l = []\n",
    "val = l.pop(1)"
   ]
  },
  {
   "cell_type": "markdown",
   "metadata": {},
   "source": [
    "#### Удаление первого встретившегося по значению элемента"
   ]
  },
  {
   "cell_type": "code",
   "execution_count": 83,
   "metadata": {},
   "outputs": [
    {
     "name": "stdout",
     "output_type": "stream",
     "text": [
      "[4, 3, 2, 1, 0, 5, 5]\n",
      "[4, 3, 2, 0, 5, 5]\n"
     ]
    }
   ],
   "source": [
    "l = [i for i in range(4, -1, -1)]\n",
    "l.append(5)\n",
    "l.append(5)\n",
    "print(l)\n",
    "l.remove(1)\n",
    "print(l)"
   ]
  },
  {
   "cell_type": "code",
   "execution_count": 84,
   "metadata": {},
   "outputs": [
    {
     "ename": "ValueError",
     "evalue": "list.remove(x): x not in list",
     "output_type": "error",
     "traceback": [
      "\u001b[1;31m---------------------------------------------------------------------------\u001b[0m",
      "\u001b[1;31mValueError\u001b[0m                                Traceback (most recent call last)",
      "Cell \u001b[1;32mIn[84], line 1\u001b[0m\n\u001b[1;32m----> 1\u001b[0m \u001b[43ml\u001b[49m\u001b[38;5;241;43m.\u001b[39;49m\u001b[43mremove\u001b[49m\u001b[43m(\u001b[49m\u001b[38;5;241;43m1\u001b[39;49m\u001b[43m)\u001b[49m\n",
      "\u001b[1;31mValueError\u001b[0m: list.remove(x): x not in list"
     ]
    }
   ],
   "source": [
    "l.remove(1)"
   ]
  },
  {
   "cell_type": "markdown",
   "metadata": {},
   "source": [
    "#### Переворачивание списка"
   ]
  },
  {
   "cell_type": "code",
   "execution_count": 86,
   "metadata": {},
   "outputs": [
    {
     "name": "stdout",
     "output_type": "stream",
     "text": [
      "[1, 5, 2, 1, 4, 8, 1, 2]\n"
     ]
    }
   ],
   "source": [
    "l = [1, 5, 2, 1, 4, 8, 1, 2]\n",
    "l.reverse()\n",
    "l.reverse()\n",
    "print(l)"
   ]
  },
  {
   "cell_type": "markdown",
   "metadata": {},
   "source": [
    "#### Сортировка списка\n",
    "(Также у метода sort есть параметр key, но мы не будем усложнять себе жизнь, Пока не будем.)\n",
    "\n",
    "В порядке неубывания"
   ]
  },
  {
   "cell_type": "code",
   "execution_count": 87,
   "metadata": {},
   "outputs": [
    {
     "name": "stdout",
     "output_type": "stream",
     "text": [
      "[1, 1, 1, 2, 2, 4, 5, 8]\n"
     ]
    }
   ],
   "source": [
    "l = [1, 5, 2, 1, 4, 8, 1, 2]\n",
    "l.sort()\n",
    "print(l)"
   ]
  },
  {
   "cell_type": "markdown",
   "metadata": {},
   "source": [
    "Сортировка в порядке невозрастания"
   ]
  },
  {
   "cell_type": "code",
   "execution_count": 88,
   "metadata": {},
   "outputs": [
    {
     "name": "stdout",
     "output_type": "stream",
     "text": [
      "[8, 5, 4, 2, 2, 1, 1, 1]\n"
     ]
    }
   ],
   "source": [
    "l = [1, 5, 2, 1, 4, 8, 1, 2]\n",
    "l.sort(reverse=True)\n",
    "print(l)"
   ]
  },
  {
   "cell_type": "markdown",
   "metadata": {},
   "source": [
    "## Прочие операции"
   ]
  },
  {
   "cell_type": "code",
   "execution_count": 90,
   "metadata": {},
   "outputs": [
    {
     "name": "stdout",
     "output_type": "stream",
     "text": [
      "[1, 3, 8, 1, 3, 8, 1, 3, 8, 1, 3, 8, 1, 3, 8]\n"
     ]
    }
   ],
   "source": [
    "l1 = [1, 3, 8]\n",
    "l2 = l1 * 5\n",
    "print(l2)"
   ]
  },
  {
   "cell_type": "markdown",
   "metadata": {},
   "source": [
    "#### min и max"
   ]
  },
  {
   "cell_type": "code",
   "execution_count": 92,
   "metadata": {},
   "outputs": [
    {
     "name": "stdout",
     "output_type": "stream",
     "text": [
      "-7\n"
     ]
    }
   ],
   "source": [
    "l = [1, 5, 2, 1, 4, 8, -7, 2]\n",
    "val = min(l)\n",
    "print(val)"
   ]
  },
  {
   "cell_type": "code",
   "execution_count": 93,
   "metadata": {},
   "outputs": [
    {
     "data": {
      "text/plain": [
       "-20"
      ]
     },
     "execution_count": 93,
     "metadata": {},
     "output_type": "execute_result"
    }
   ],
   "source": [
    "min(-10, -20, 30)"
   ]
  },
  {
   "cell_type": "code",
   "execution_count": 94,
   "metadata": {},
   "outputs": [
    {
     "name": "stdout",
     "output_type": "stream",
     "text": [
      "8\n"
     ]
    }
   ],
   "source": [
    "l = [1, 5, 2, 1, 4, 8, 1, 2]\n",
    "val = max(l)\n",
    "print(val)"
   ]
  },
  {
   "cell_type": "code",
   "execution_count": 95,
   "metadata": {},
   "outputs": [
    {
     "data": {
      "text/plain": [
       "30"
      ]
     },
     "execution_count": 95,
     "metadata": {},
     "output_type": "execute_result"
    }
   ],
   "source": [
    "max(-10, -20, 30)"
   ]
  },
  {
   "cell_type": "markdown",
   "metadata": {},
   "source": [
    "#### Сортировка списка функцией sorted()"
   ]
  },
  {
   "cell_type": "code",
   "execution_count": 97,
   "metadata": {},
   "outputs": [
    {
     "name": "stdout",
     "output_type": "stream",
     "text": [
      "[1, 5, 2, 1, 4, 8, 1, 2]\n",
      "[1, 1, 1, 2, 2, 4, 5, 88]\n"
     ]
    }
   ],
   "source": [
    "l1 = [1, 5, 2, 1, 4, 8, 1, 2]\n",
    "l2 = sorted(l1)\n",
    "print(l1)\n",
    "print(l2)"
   ]
  },
  {
   "cell_type": "markdown",
   "metadata": {},
   "source": [
    "reverse можно использовать и для данной функции"
   ]
  },
  {
   "cell_type": "code",
   "execution_count": 98,
   "metadata": {},
   "outputs": [
    {
     "name": "stdout",
     "output_type": "stream",
     "text": [
      "[8, 5, 4, 2, 2, 1, 1, 1]\n"
     ]
    }
   ],
   "source": [
    "l1 = [1, 5, 2, 1, 4, 8, 1, 2]\n",
    "l2 = sorted(l1, reverse=True)\n",
    "print(l2)"
   ]
  },
  {
   "cell_type": "markdown",
   "metadata": {},
   "source": [
    "#### Функция map\n",
    "применяет функцию к каждому элементу последовательности и возвращает итератор с результатами"
   ]
  },
  {
   "cell_type": "code",
   "execution_count": 99,
   "metadata": {},
   "outputs": [
    {
     "name": "stdout",
     "output_type": "stream",
     "text": [
      "['ПЕТЯ', 'ВАНЯ', 'СЕРЁЖА', 'КАТЯ', 'МАША']\n"
     ]
    }
   ],
   "source": [
    "l1 = [\"Петя\", \"Ваня\", \"Серёжа\", \"Катя\", \"Маша\"]\n",
    "l2 = list(map(str.upper, l1))\n",
    "print(l2)"
   ]
  },
  {
   "cell_type": "code",
   "execution_count": 100,
   "metadata": {},
   "outputs": [
    {
     "name": "stdout",
     "output_type": "stream",
     "text": [
      "[0.0, 0.1, 0.2, 0.3, 0.4, 0.5, 0.6, 0.7, 0.8, 0.9]\n",
      "[0.0, 0.09983341664682815, 0.19866933079506122, 0.29552020666133955, 0.3894183423086505, 0.479425538604203, 0.5646424733950354, 0.644217687237691, 0.7173560908995228, 0.7833269096274834]\n"
     ]
    },
    {
     "data": {
      "text/plain": [
       "map"
      ]
     },
     "execution_count": 100,
     "metadata": {},
     "output_type": "execute_result"
    }
   ],
   "source": [
    "import math as m\n",
    "\n",
    "l1 = [i / 10 for i in range(10)]\n",
    "print(l1)\n",
    "l2 = list(map(m.sin, l1))\n",
    "print(l2)\n",
    "type(map(m.sin, l1))"
   ]
  },
  {
   "cell_type": "code",
   "execution_count": 101,
   "metadata": {},
   "outputs": [
    {
     "name": "stdout",
     "output_type": "stream",
     "text": [
      "[2, 3, 4, 5]\n",
      "[5, 4, 3, 2]\n",
      "[32, 81, 64, 25]\n"
     ]
    }
   ],
   "source": [
    "l1 = [2, 3, 4, 5]\n",
    "l2 = list(range(5,1,-1))\n",
    "print(l1)\n",
    "print(l2)\n",
    "l3 = list(map(pow, l1, l2))\n",
    "print(l3)"
   ]
  },
  {
   "cell_type": "markdown",
   "metadata": {},
   "source": [
    "#### Функция zip"
   ]
  },
  {
   "cell_type": "code",
   "execution_count": 104,
   "metadata": {},
   "outputs": [
    {
     "name": "stdout",
     "output_type": "stream",
     "text": [
      "Студент Петя получил на экзамене 5\n",
      "Студент Ваня получил на экзамене 3\n",
      "Студент Серёжа получил на экзамене 4\n",
      "Студент Катя получил на экзамене 4\n",
      "Студент Маша получил на экзамене 10\n"
     ]
    }
   ],
   "source": [
    "name = [\"Петя\", \"Ваня\", \"Серёжа\", \"Катя\", \"Маша\"]\n",
    "mark = [5, 3, 4, 4]\n",
    "for n, m in zip(name, mark):\n",
    "    print(\"Студент\", n, \"получил на экзамене\", m)"
   ]
  },
  {
   "cell_type": "code",
   "execution_count": 105,
   "metadata": {},
   "outputs": [
    {
     "name": "stdout",
     "output_type": "stream",
     "text": [
      "11\n",
      "16\n",
      "18\n",
      "22\n"
     ]
    }
   ],
   "source": [
    "l1 = [2, 3, 4, 5]\n",
    "l2 = [5, 5, 4, 4]\n",
    "l3 = [1, 1, 2, 2]\n",
    "for x, y, z in zip(l1, l2, l3):\n",
    "    print(x * y + z)"
   ]
  },
  {
   "cell_type": "markdown",
   "metadata": {},
   "source": [
    "#### Перебор элементов списка"
   ]
  },
  {
   "cell_type": "code",
   "execution_count": 106,
   "metadata": {},
   "outputs": [
    {
     "name": "stdout",
     "output_type": "stream",
     "text": [
      "Петя\n",
      "Ваня\n",
      "Серёжа\n",
      "Катя\n",
      "Маша\n"
     ]
    }
   ],
   "source": [
    "name = [\"Петя\", \"Ваня\", \"Серёжа\", \"Катя\", \"Маша\"]\n",
    "for i in name:\n",
    "    print(i)"
   ]
  },
  {
   "cell_type": "markdown",
   "metadata": {},
   "source": [
    "Все методы можно посмотреть [здесь](https://pythonworld.ru/tipy-dannyx-v-python/spiski-list-funkcii-i-metody-spiskov.html)."
   ]
  },
  {
   "cell_type": "markdown",
   "metadata": {},
   "source": [
    "# Строки (Strings, неизменяемые, упорядоченные)\n",
    "## Создание"
   ]
  },
  {
   "cell_type": "code",
   "execution_count": 107,
   "metadata": {},
   "outputs": [
    {
     "name": "stdout",
     "output_type": "stream",
     "text": [
      "abcd\n"
     ]
    }
   ],
   "source": [
    "s = \"abcd\"\n",
    "print(s)"
   ]
  },
  {
   "cell_type": "code",
   "execution_count": 108,
   "metadata": {},
   "outputs": [
    {
     "name": "stdout",
     "output_type": "stream",
     "text": [
      "abcd\n"
     ]
    }
   ],
   "source": [
    "s = 'abcd'\n",
    "print(s)"
   ]
  },
  {
   "cell_type": "code",
   "execution_count": 109,
   "metadata": {},
   "outputs": [
    {
     "name": "stdout",
     "output_type": "stream",
     "text": [
      "большая\n",
      "строка\n",
      "с переносами\n"
     ]
    }
   ],
   "source": [
    "s = '''большая\n",
    "строка\n",
    "с переносами'''\n",
    "print(s)"
   ]
  },
  {
   "cell_type": "code",
   "execution_count": 110,
   "metadata": {},
   "outputs": [
    {
     "name": "stdout",
     "output_type": "stream",
     "text": [
      "большая\n",
      "строка\n",
      "с переносами\n"
     ]
    }
   ],
   "source": [
    "s = \"\"\"большая\n",
    "строка\n",
    "с переносами\"\"\"\n",
    "print(s)"
   ]
  },
  {
   "cell_type": "code",
   "execution_count": 111,
   "metadata": {},
   "outputs": [
    {
     "name": "stdout",
     "output_type": "stream",
     "text": [
      "a'bc'd\n"
     ]
    }
   ],
   "source": [
    "s = \"a'bc'd\"\n",
    "print(s)"
   ]
  },
  {
   "cell_type": "code",
   "execution_count": 112,
   "metadata": {},
   "outputs": [
    {
     "name": "stdout",
     "output_type": "stream",
     "text": [
      "a\"bc\"d\n"
     ]
    }
   ],
   "source": [
    "s = 'a\"bc\"d'\n",
    "print(s)"
   ]
  },
  {
   "cell_type": "code",
   "execution_count": 118,
   "metadata": {},
   "outputs": [
    {
     "name": "stdout",
     "output_type": "stream",
     "text": [
      "a\n",
      "bc'd\n"
     ]
    }
   ],
   "source": [
    "s = \"a\\nbc\\'d\"\n",
    "print(s)"
   ]
  },
  {
   "cell_type": "markdown",
   "metadata": {},
   "source": [
    "| Экранированная последовательность\t | Результат |\n",
    "| --- | --- |\n",
    "| \\n | Перевод строки |\n",
    "| \\f | Перевод страницы |\n",
    "| \\v | Вертикальная табуляция |\n",
    "| \\r | Возврат каретки |\n",
    "| \\t | Горизонтальная табуляция |\n",
    "| \\0 | Символ Null (не является признаком конца строки) |\n",
    "| \\a | Звонок |\n",
    "| \\b | Забой |\n",
    "| ... | ... |\n"
   ]
  },
  {
   "cell_type": "markdown",
   "metadata": {},
   "source": [
    "## Операции"
   ]
  },
  {
   "cell_type": "markdown",
   "metadata": {},
   "source": [
    "#### Конкатенация"
   ]
  },
  {
   "cell_type": "code",
   "execution_count": 119,
   "metadata": {},
   "outputs": [
    {
     "name": "stdout",
     "output_type": "stream",
     "text": [
      "abcdefg\n"
     ]
    }
   ],
   "source": [
    "s1 = \"abcd\"\n",
    "s2 = \"efg\"\n",
    "print(s1 + s2)"
   ]
  },
  {
   "cell_type": "markdown",
   "metadata": {},
   "source": [
    "Дублирование строки"
   ]
  },
  {
   "cell_type": "code",
   "execution_count": 120,
   "metadata": {},
   "outputs": [
    {
     "name": "stdout",
     "output_type": "stream",
     "text": [
      "testtesttest\n"
     ]
    }
   ],
   "source": [
    "s = \"test\"\n",
    "print(s * 3)"
   ]
  },
  {
   "cell_type": "markdown",
   "metadata": {},
   "source": [
    "Длина строки"
   ]
  },
  {
   "cell_type": "code",
   "execution_count": 121,
   "metadata": {},
   "outputs": [
    {
     "name": "stdout",
     "output_type": "stream",
     "text": [
      "4\n"
     ]
    }
   ],
   "source": [
    "s = \"test\"\n",
    "print(len(s))"
   ]
  },
  {
   "cell_type": "markdown",
   "metadata": {},
   "source": [
    "Обращение по индексу"
   ]
  },
  {
   "cell_type": "code",
   "execution_count": 122,
   "metadata": {},
   "outputs": [
    {
     "name": "stdout",
     "output_type": "stream",
     "text": [
      "e\n"
     ]
    }
   ],
   "source": [
    "s = \"test\"\n",
    "print(s[1])"
   ]
  },
  {
   "cell_type": "markdown",
   "metadata": {},
   "source": [
    "Срезы"
   ]
  },
  {
   "cell_type": "code",
   "execution_count": 123,
   "metadata": {},
   "outputs": [
    {
     "name": "stdout",
     "output_type": "stream",
     "text": [
      "tset\n"
     ]
    }
   ],
   "source": [
    "s = \"test\"\n",
    "print(s[::-1])"
   ]
  },
  {
   "cell_type": "code",
   "execution_count": 124,
   "metadata": {},
   "outputs": [
    {
     "ename": "TypeError",
     "evalue": "'str' object does not support item assignment",
     "output_type": "error",
     "traceback": [
      "\u001b[1;31m---------------------------------------------------------------------------\u001b[0m",
      "\u001b[1;31mTypeError\u001b[0m                                 Traceback (most recent call last)",
      "Cell \u001b[1;32mIn[124], line 2\u001b[0m\n\u001b[0;32m      1\u001b[0m s \u001b[38;5;241m=\u001b[39m \u001b[38;5;124m\"\u001b[39m\u001b[38;5;124mtest\u001b[39m\u001b[38;5;124m\"\u001b[39m\n\u001b[1;32m----> 2\u001b[0m \u001b[43ms\u001b[49m\u001b[43m[\u001b[49m\u001b[38;5;241;43m1\u001b[39;49m\u001b[43m]\u001b[49m \u001b[38;5;241m=\u001b[39m \u001b[38;5;124m'\u001b[39m\u001b[38;5;124md\u001b[39m\u001b[38;5;124m'\u001b[39m\n",
      "\u001b[1;31mTypeError\u001b[0m: 'str' object does not support item assignment"
     ]
    }
   ],
   "source": [
    "s = \"test\"\n",
    "s[1] = 'd'"
   ]
  },
  {
   "cell_type": "markdown",
   "metadata": {},
   "source": [
    "#### Поиск первого вхождения подстроки в строку\n",
    "-1 если не найдено. Функция index работает аналогично find, но пропрасывает исключение ValueError вместо -1."
   ]
  },
  {
   "cell_type": "code",
   "execution_count": 127,
   "metadata": {},
   "outputs": [
    {
     "name": "stdout",
     "output_type": "stream",
     "text": [
      "testtesttest\n",
      "2\n"
     ]
    }
   ],
   "source": [
    "s = \"test\" * 3\n",
    "print(s)\n",
    "print(s.find('st'))"
   ]
  },
  {
   "cell_type": "code",
   "execution_count": 131,
   "metadata": {},
   "outputs": [
    {
     "name": "stdout",
     "output_type": "stream",
     "text": [
      "9\n"
     ]
    }
   ],
   "source": [
    "s = \"test\" * 3\n",
    "print(s.find('e', 6))"
   ]
  },
  {
   "cell_type": "code",
   "execution_count": 132,
   "metadata": {},
   "outputs": [
    {
     "name": "stdout",
     "output_type": "stream",
     "text": [
      "9\n"
     ]
    }
   ],
   "source": [
    "s = \"test\" * 3\n",
    "print(s.find('e', 6, 10))"
   ]
  },
  {
   "cell_type": "markdown",
   "metadata": {},
   "source": [
    "#### Поиск последнего вхождения подстроки в строку\n",
    "-1 если не найдено. Функция rindex работает аналогично rfind, но пропрасывает исключение ValueError вместо -1."
   ]
  },
  {
   "cell_type": "code",
   "execution_count": 133,
   "metadata": {},
   "outputs": [
    {
     "name": "stdout",
     "output_type": "stream",
     "text": [
      "9\n"
     ]
    }
   ],
   "source": [
    "s = \"test\" * 3\n",
    "print(s.rfind('e'))"
   ]
  },
  {
   "cell_type": "code",
   "execution_count": 134,
   "metadata": {},
   "outputs": [
    {
     "name": "stdout",
     "output_type": "stream",
     "text": [
      "9\n"
     ]
    }
   ],
   "source": [
    "s = \"test\" * 3\n",
    "print(s.rfind('e', 2))"
   ]
  },
  {
   "cell_type": "code",
   "execution_count": 135,
   "metadata": {},
   "outputs": [
    {
     "name": "stdout",
     "output_type": "stream",
     "text": [
      "-1\n"
     ]
    }
   ],
   "source": [
    "s = \"test\" * 3\n",
    "print(s.rfind('d', 2, 8))"
   ]
  },
  {
   "cell_type": "markdown",
   "metadata": {},
   "source": [
    "#### Замена по шаблону"
   ]
  },
  {
   "cell_type": "code",
   "execution_count": 136,
   "metadata": {},
   "outputs": [
    {
     "name": "stdout",
     "output_type": "stream",
     "text": [
      "testtesttest\n",
      "tesssesssest\n"
     ]
    }
   ],
   "source": [
    "s = \"test\" * 3\n",
    "print(s)\n",
    "print(s.replace(\"tt\", 'ss'))"
   ]
  },
  {
   "cell_type": "code",
   "execution_count": 139,
   "metadata": {},
   "outputs": [
    {
     "name": "stdout",
     "output_type": "stream",
     "text": [
      "tesssesssest\n"
     ]
    }
   ],
   "source": [
    "s = \"test\" * 3\n",
    "print(s.replace(\"tt\", 'ss', 1))"
   ]
  },
  {
   "cell_type": "code",
   "execution_count": 140,
   "metadata": {},
   "outputs": [
    {
     "name": "stdout",
     "output_type": "stream",
     "text": [
      "tesssesssest testtesttest\n"
     ]
    }
   ],
   "source": [
    "s = \"test\" * 3\n",
    "b = s\n",
    "s = s.replace(\"tt\", 'ss', 2)\n",
    "print(s, b)"
   ]
  },
  {
   "cell_type": "markdown",
   "metadata": {},
   "source": [
    "#### Разбиение строки"
   ]
  },
  {
   "cell_type": "code",
   "execution_count": 145,
   "metadata": {},
   "outputs": [
    {
     "name": "stdout",
     "output_type": "stream",
     "text": [
      "['Вася,', 'Петя,', 'Маша,', 'Настя']\n"
     ]
    }
   ],
   "source": [
    "s = \"Вася, Петя, Маша, Настя\"\n",
    "print(s.split(\" \"))"
   ]
  },
  {
   "cell_type": "code",
   "execution_count": 144,
   "metadata": {},
   "outputs": [
    {
     "name": "stdout",
     "output_type": "stream",
     "text": [
      "['Вася,', 'Петя,', 'Маша,', 'Настя']\n"
     ]
    }
   ],
   "source": [
    "s = \"Вася, Петя, Маша, Настя\"\n",
    "print(s.split())"
   ]
  },
  {
   "cell_type": "markdown",
   "metadata": {},
   "source": [
    "#### Проверка класса символов"
   ]
  },
  {
   "cell_type": "code",
   "execution_count": 147,
   "metadata": {},
   "outputs": [
    {
     "name": "stdout",
     "output_type": "stream",
     "text": [
      "False\n",
      "False\n",
      "True\n",
      "False\n",
      "True\n",
      "False\n"
     ]
    }
   ],
   "source": [
    "s = \"A7BC7\"\n",
    "print(s.isdigit()) # Состоит из цифр\n",
    "print(s.isalpha()) # Состоит из букв\n",
    "print(s.isalnum()) # Состоит из цифр и букв\n",
    "print(s.islower()) # Состоит из символов в нижнем регистре\n",
    "print(s.isupper()) # Состоит из символов в верхнем регистре\n",
    "print(s.isspace()) # Состоит из неотображаемых символов"
   ]
  },
  {
   "cell_type": "markdown",
   "metadata": {},
   "source": [
    "#### Преобразование строки к верхнему регистру"
   ]
  },
  {
   "cell_type": "code",
   "execution_count": 148,
   "metadata": {},
   "outputs": [
    {
     "name": "stdout",
     "output_type": "stream",
     "text": [
      "ВАСЯ, ПЕТЯ, МАША, НАСТЯ\n"
     ]
    }
   ],
   "source": [
    "s = \"Вася, Петя, Маша, Настя\"\n",
    "print(s.upper())"
   ]
  },
  {
   "cell_type": "code",
   "execution_count": 149,
   "metadata": {},
   "outputs": [
    {
     "name": "stdout",
     "output_type": "stream",
     "text": [
      "вася, петя, маша, настя\n"
     ]
    }
   ],
   "source": [
    "s = \"Вася, Петя, Маша, Настя\"\n",
    "print(s.lower())"
   ]
  },
  {
   "cell_type": "markdown",
   "metadata": {},
   "source": [
    "#### Начинается с"
   ]
  },
  {
   "cell_type": "code",
   "execution_count": 151,
   "metadata": {},
   "outputs": [
    {
     "name": "stdout",
     "output_type": "stream",
     "text": [
      "False\n"
     ]
    }
   ],
   "source": [
    "s = \"Вася, Петя, Маша, Настя\"\n",
    "print(s.startswith(\"Вася\"))"
   ]
  },
  {
   "cell_type": "markdown",
   "metadata": {},
   "source": [
    "#### Заканчивается на"
   ]
  },
  {
   "cell_type": "code",
   "execution_count": 152,
   "metadata": {},
   "outputs": [
    {
     "name": "stdout",
     "output_type": "stream",
     "text": [
      "True\n"
     ]
    }
   ],
   "source": [
    "s = \"Вася, Петя, Маша, Настя\"\n",
    "print(s.endswith(\"Настя\"))"
   ]
  },
  {
   "cell_type": "markdown",
   "metadata": {},
   "source": [
    "#### Создание строки из списка"
   ]
  },
  {
   "cell_type": "code",
   "execution_count": 153,
   "metadata": {},
   "outputs": [
    {
     "name": "stdout",
     "output_type": "stream",
     "text": [
      "Вася, Петя, Маша, Настя\n"
     ]
    }
   ],
   "source": [
    "l = ['Вася', 'Петя', 'Маша', 'Настя']\n",
    "print(', '.join(l))"
   ]
  },
  {
   "cell_type": "markdown",
   "metadata": {},
   "source": [
    "#### Удаление пробельных символов"
   ]
  },
  {
   "cell_type": "code",
   "execution_count": 154,
   "metadata": {},
   "outputs": [
    {
     "name": "stdout",
     "output_type": "stream",
     "text": [
      "| Шла   Саша по   шоссе и   сосала сушку     |\n"
     ]
    }
   ],
   "source": [
    "s = \"    Шла   Саша по   шоссе и   сосала сушку    \"\n",
    "print(\"|\", s.lstrip(), \"|\")"
   ]
  },
  {
   "cell_type": "code",
   "execution_count": 155,
   "metadata": {},
   "outputs": [
    {
     "name": "stdout",
     "output_type": "stream",
     "text": [
      "|     Шла   Саша по   шоссе и   сосала сушку |\n"
     ]
    }
   ],
   "source": [
    "s = \"    Шла   Саша по   шоссе и   сосала сушку    \"\n",
    "print(\"|\", s.rstrip(), \"|\")"
   ]
  },
  {
   "cell_type": "code",
   "execution_count": 156,
   "metadata": {},
   "outputs": [
    {
     "name": "stdout",
     "output_type": "stream",
     "text": [
      "| Шла   Саша по   шоссе и   сосала сушку |\n"
     ]
    }
   ],
   "source": [
    "s = \"    Шла   Саша по   шоссе и   сосала сушку    \"\n",
    "print(\"|\", s.strip(), \"|\")"
   ]
  },
  {
   "cell_type": "code",
   "execution_count": 157,
   "metadata": {},
   "outputs": [
    {
     "name": "stdout",
     "output_type": "stream",
     "text": [
      "| Шла   Саша по   шоссе и   сосала сушку |\n"
     ]
    }
   ],
   "source": [
    "s = \"====Шла   Саша по   шоссе и   сосала сушку===\"\n",
    "print(\"|\", s.strip('='), \"|\")"
   ]
  },
  {
   "cell_type": "markdown",
   "metadata": {},
   "source": [
    "#### Перебор символов строки"
   ]
  },
  {
   "cell_type": "code",
   "execution_count": 158,
   "metadata": {},
   "outputs": [
    {
     "name": "stdout",
     "output_type": "stream",
     "text": [
      "Д\n",
      "и\n",
      "м\n",
      "а\n"
     ]
    }
   ],
   "source": [
    "name = \"Дима\"\n",
    "for i in name:\n",
    "    print(i)"
   ]
  },
  {
   "cell_type": "markdown",
   "metadata": {},
   "source": [
    "Все методы можно посмотреть [здесь](https://pythonworld.ru/tipy-dannyx-v-python/stroki-funkcii-i-metody-strok.html)."
   ]
  },
  {
   "cell_type": "markdown",
   "metadata": {},
   "source": [
    "# Словари (Dictionaries, изменяемые, упорядоченные)\n",
    "(ассоциативные массивы или хеш-таблицы)\n",
    "Хранят пары ключ:значение, где ключ уникален.\n",
    "# Создание\n",
    "### С помощью встроенной функции dict()"
   ]
  },
  {
   "cell_type": "code",
   "execution_count": 159,
   "metadata": {},
   "outputs": [
    {
     "name": "stdout",
     "output_type": "stream",
     "text": [
      "{}\n"
     ]
    }
   ],
   "source": [
    "d = dict()\n",
    "print(d)"
   ]
  },
  {
   "cell_type": "code",
   "execution_count": 162,
   "metadata": {},
   "outputs": [
    {
     "name": "stdout",
     "output_type": "stream",
     "text": [
      "{'a': 1, 'b': 2, 'c': 3}\n"
     ]
    }
   ],
   "source": [
    "d = dict(a = 1, b = 2, c = 3)\n",
    "print(d)"
   ]
  },
  {
   "cell_type": "code",
   "execution_count": 164,
   "metadata": {},
   "outputs": [
    {
     "name": "stdout",
     "output_type": "stream",
     "text": [
      "{1: 'a', '2': 3, 3.0: 'c'}\n"
     ]
    }
   ],
   "source": [
    "d = dict([(1, \"a\"), ('2', 3), (3.0, \"c\")])\n",
    "print(d)"
   ]
  },
  {
   "cell_type": "code",
   "execution_count": 166,
   "metadata": {},
   "outputs": [
    {
     "name": "stdout",
     "output_type": "stream",
     "text": [
      "<class 'zip'>\n",
      "{1: 'a', 2: 'b', 3: 'c'}\n"
     ]
    }
   ],
   "source": [
    "keys = [1, 2, 3]\n",
    "values = [\"a\", \"b\", \"c\"]\n",
    "d = dict(zip(keys, values))\n",
    "print(d)"
   ]
  },
  {
   "cell_type": "markdown",
   "metadata": {},
   "source": [
    "### С помощью присваивания"
   ]
  },
  {
   "cell_type": "code",
   "execution_count": 167,
   "metadata": {},
   "outputs": [
    {
     "name": "stdout",
     "output_type": "stream",
     "text": [
      "{}\n"
     ]
    }
   ],
   "source": [
    "d = {}\n",
    "print(d)"
   ]
  },
  {
   "cell_type": "code",
   "execution_count": 169,
   "metadata": {},
   "outputs": [
    {
     "name": "stdout",
     "output_type": "stream",
     "text": [
      "{'a': 1, 'b': 2, 'c': 3}\n"
     ]
    }
   ],
   "source": [
    "d = {\"a\": 1, \"b\": 2, \"c\" : 3}\n",
    "print(d)"
   ]
  },
  {
   "cell_type": "code",
   "execution_count": 170,
   "metadata": {},
   "outputs": [
    {
     "name": "stdout",
     "output_type": "stream",
     "text": [
      "{1: 'a', 2: 'b', 3: 'c'}\n"
     ]
    }
   ],
   "source": [
    "d = {1: \"a\", 2: \"b\", 3 : \"c\"}\n",
    "print(d)"
   ]
  },
  {
   "cell_type": "markdown",
   "metadata": {},
   "source": [
    "### С помощью метода fromkeys"
   ]
  },
  {
   "cell_type": "code",
   "execution_count": 171,
   "metadata": {},
   "outputs": [
    {
     "name": "stdout",
     "output_type": "stream",
     "text": [
      "{'a': None, 'b': None, 'c': None}\n"
     ]
    }
   ],
   "source": [
    "keys = [\"a\", \"b\", \"c\"]\n",
    "d = dict.fromkeys(keys)\n",
    "print(d)"
   ]
  },
  {
   "cell_type": "code",
   "execution_count": 172,
   "metadata": {},
   "outputs": [
    {
     "name": "stdout",
     "output_type": "stream",
     "text": [
      "{'a': 46, 'b': 46, 'c': 46}\n"
     ]
    }
   ],
   "source": [
    "keys = [\"a\", \"b\", \"c\"]\n",
    "d = dict.fromkeys(keys, 46)\n",
    "print(d)"
   ]
  },
  {
   "cell_type": "markdown",
   "metadata": {},
   "source": [
    "### С помощью генератора словарей"
   ]
  },
  {
   "cell_type": "code",
   "execution_count": 173,
   "metadata": {},
   "outputs": [
    {
     "name": "stdout",
     "output_type": "stream",
     "text": [
      "{'0': 0.0, '1': 0.125, '2': 1.0, '3': 3.375}\n"
     ]
    }
   ],
   "source": [
    "d = {str(i): (i / 2) ** 3 for i in range(4)}\n",
    "print(d)"
   ]
  },
  {
   "cell_type": "markdown",
   "metadata": {},
   "source": [
    "### Операции"
   ]
  },
  {
   "cell_type": "markdown",
   "metadata": {},
   "source": [
    "#### Добавление элементов"
   ]
  },
  {
   "cell_type": "code",
   "execution_count": 176,
   "metadata": {},
   "outputs": [
    {
     "name": "stdout",
     "output_type": "stream",
     "text": [
      "{}\n",
      "{'1': 5}\n",
      "{'1': 5, 2: 3}\n",
      "{'1': 5, 2: 3}\n"
     ]
    }
   ],
   "source": [
    "d = {}\n",
    "print(d)\n",
    "\n",
    "d['1'] = 5\n",
    "print(d)\n",
    "\n",
    "d[2] = 3\n",
    "print(d)\n",
    "\n",
    "d['1'] = 5\n",
    "print(d)"
   ]
  },
  {
   "cell_type": "code",
   "execution_count": 179,
   "metadata": {},
   "outputs": [
    {
     "ename": "KeyError",
     "evalue": "3",
     "output_type": "error",
     "traceback": [
      "\u001b[1;31m---------------------------------------------------------------------------\u001b[0m",
      "\u001b[1;31mKeyError\u001b[0m                                  Traceback (most recent call last)",
      "Cell \u001b[1;32mIn[179], line 1\u001b[0m\n\u001b[1;32m----> 1\u001b[0m \u001b[38;5;28mprint\u001b[39m(\u001b[43md\u001b[49m\u001b[43m[\u001b[49m\u001b[38;5;241;43m3\u001b[39;49m\u001b[43m]\u001b[49m)\n",
      "\u001b[1;31mKeyError\u001b[0m: 3"
     ]
    }
   ],
   "source": [
    "print(d[3])"
   ]
  },
  {
   "cell_type": "markdown",
   "metadata": {},
   "source": [
    "### Методы"
   ]
  },
  {
   "cell_type": "markdown",
   "metadata": {},
   "source": [
    "#### Очистка"
   ]
  },
  {
   "cell_type": "code",
   "execution_count": 180,
   "metadata": {},
   "outputs": [
    {
     "name": "stdout",
     "output_type": "stream",
     "text": [
      "{}\n"
     ]
    }
   ],
   "source": [
    "d = {\"a\": 1, \"b\": 2, \"c\" : 3}\n",
    "d.clear()\n",
    "print(d)"
   ]
  },
  {
   "cell_type": "markdown",
   "metadata": {},
   "source": [
    "#### Копирование"
   ]
  },
  {
   "cell_type": "code",
   "execution_count": 181,
   "metadata": {},
   "outputs": [
    {
     "name": "stdout",
     "output_type": "stream",
     "text": [
      "{'a': 1, 'b': [1, 2], 'c': 3} {'a': 1, 'b': [1, 2], 'c': 3}\n",
      "{'a': 1, 'b': 4, 'c': 3} {'a': 1, 'b': [1, 2], 'c': 3}\n"
     ]
    }
   ],
   "source": [
    "d1 = {\"a\": 1, \"b\": [1, 2], \"c\" : 3}\n",
    "\n",
    "d2 = d1.copy()\n",
    "print(d1, d2)\n",
    "\n",
    "d1[\"b\"] = 4\n",
    "print(d1, d2)"
   ]
  },
  {
   "cell_type": "markdown",
   "metadata": {},
   "source": [
    "#### Получение ключей и значений"
   ]
  },
  {
   "cell_type": "code",
   "execution_count": 182,
   "metadata": {},
   "outputs": [
    {
     "name": "stdout",
     "output_type": "stream",
     "text": [
      "dict_keys(['a', 'b', 'c'])\n",
      "a\n",
      "b\n",
      "c\n",
      "dict_values([1, 2, 3])\n",
      "1\n",
      "2\n",
      "3\n",
      "dict_items([('a', 1), ('b', 2), ('c', 3)])\n"
     ]
    }
   ],
   "source": [
    "d = {\"a\": 1, \"b\": 2, \"c\" : 3}\n",
    "\n",
    "print(d.keys())\n",
    "\n",
    "for i in d.keys():\n",
    "    print(i)\n",
    "\n",
    "print(d.values())\n",
    "\n",
    "for i in d.values():\n",
    "    print(i)\n",
    "\n",
    "print(d.items())"
   ]
  },
  {
   "cell_type": "code",
   "execution_count": 183,
   "metadata": {},
   "outputs": [
    {
     "name": "stdout",
     "output_type": "stream",
     "text": [
      "a 1\n",
      "b 2\n",
      "c 3\n"
     ]
    }
   ],
   "source": [
    "for key, value in d.items():\n",
    "    print(key, value)"
   ]
  },
  {
   "cell_type": "markdown",
   "metadata": {},
   "source": [
    "#### Получение значения по ключу"
   ]
  },
  {
   "cell_type": "code",
   "execution_count": 184,
   "metadata": {},
   "outputs": [
    {
     "name": "stdout",
     "output_type": "stream",
     "text": [
      "1\n",
      "None\n"
     ]
    }
   ],
   "source": [
    "d = {\"a\": 1, \"b\": 2, \"c\" : 3}\n",
    "print(d.get(\"a\"))\n",
    "print(d.get(\"d\"))"
   ]
  },
  {
   "cell_type": "code",
   "execution_count": 185,
   "metadata": {},
   "outputs": [
    {
     "ename": "KeyError",
     "evalue": "'2'",
     "output_type": "error",
     "traceback": [
      "\u001b[1;31m---------------------------------------------------------------------------\u001b[0m",
      "\u001b[1;31mKeyError\u001b[0m                                  Traceback (most recent call last)",
      "Cell \u001b[1;32mIn[185], line 1\u001b[0m\n\u001b[1;32m----> 1\u001b[0m \u001b[43md\u001b[49m\u001b[43m[\u001b[49m\u001b[38;5;124;43m'\u001b[39;49m\u001b[38;5;124;43m2\u001b[39;49m\u001b[38;5;124;43m'\u001b[39;49m\u001b[43m]\u001b[49m\n",
      "\u001b[1;31mKeyError\u001b[0m: '2'"
     ]
    }
   ],
   "source": [
    "d['2']"
   ]
  },
  {
   "cell_type": "markdown",
   "metadata": {},
   "source": [
    "#### Извлечение значения по ключу"
   ]
  },
  {
   "cell_type": "code",
   "execution_count": 187,
   "metadata": {},
   "outputs": [
    {
     "name": "stdout",
     "output_type": "stream",
     "text": [
      "1\n",
      "{'b': 2, 'c': 3}\n",
      "10\n",
      "{'b': 2, 'c': 3}\n"
     ]
    }
   ],
   "source": [
    "d = {\"a\": 1, \"b\": 2, \"c\" : 3}\n",
    "\n",
    "print(d.pop(\"a\"))\n",
    "\n",
    "print(d)\n",
    "\n",
    "print(d.pop(\"a\", 10))\n",
    "\n",
    "print(d)"
   ]
  },
  {
   "cell_type": "markdown",
   "metadata": {},
   "source": [
    "#### Извлечение произвольной пары (ключ, значение)"
   ]
  },
  {
   "cell_type": "code",
   "execution_count": 193,
   "metadata": {},
   "outputs": [
    {
     "name": "stdout",
     "output_type": "stream",
     "text": [
      "4\n",
      "('d', 4) {'a': 1, 'b': 2, 'c': 3}\n",
      "('c', 3) {'a': 1, 'b': 2}\n",
      "('b', 2) {'a': 1}\n"
     ]
    }
   ],
   "source": [
    "d = {\"a\": 1, \"b\": 2, \"c\": 3, \"d\": 4}\n",
    "\n",
    "print(len(d))\n",
    "\n",
    "print(d.popitem(), d)\n",
    "\n",
    "print(d.popitem(), d)\n",
    "\n",
    "print(d.popitem(), d)"
   ]
  },
  {
   "cell_type": "markdown",
   "metadata": {},
   "source": [
    "#### Получение/создание значения по ключу"
   ]
  },
  {
   "cell_type": "code",
   "execution_count": 195,
   "metadata": {},
   "outputs": [
    {
     "name": "stdout",
     "output_type": "stream",
     "text": [
      "{'a': 1, 'b': 2}\n",
      "{'a': 1, 'b': 2} 1\n",
      "{'a': 1, 'b': 2} 1\n",
      "{'a': 1, 'b': 2, 'c': None} None\n",
      "{'a': 1, 'b': 2, 'c': None, 'd': 3} 3\n"
     ]
    }
   ],
   "source": [
    "d = {\"a\": 1, \"b\": 2}\n",
    "\n",
    "print(d)\n",
    "\n",
    "print(d, d.setdefault(\"a\"))\n",
    "print(d, d.setdefault(\"a\", 3))\n",
    "\n",
    "print(d, d.setdefault(\"c\"))\n",
    "print(d, d.setdefault(\"d\", 3))"
   ]
  },
  {
   "cell_type": "markdown",
   "metadata": {},
   "source": [
    "#### Обновление словаря (без его пересоздания)"
   ]
  },
  {
   "cell_type": "code",
   "execution_count": 196,
   "metadata": {},
   "outputs": [
    {
     "name": "stdout",
     "output_type": "stream",
     "text": [
      "{'a': 1, 'b': 3, 'c': 4}\n"
     ]
    }
   ],
   "source": [
    "d1 = {\"a\": 1, \"b\": \"2\"}\n",
    "d2 = {\"b\": 3, \"c\": 4}\n",
    "d1.update(d2)\n",
    "print(d1)"
   ]
  },
  {
   "cell_type": "code",
   "execution_count": 197,
   "metadata": {},
   "outputs": [
    {
     "name": "stdout",
     "output_type": "stream",
     "text": [
      "{'a': 1, 'b': 3, 'c': 4}\n"
     ]
    }
   ],
   "source": [
    "d = {\"a\": 1, \"b\": 2}\n",
    "d.update([(\"b\", 3), (\"c\", 4)])\n",
    "print(d)"
   ]
  },
  {
   "cell_type": "markdown",
   "metadata": {},
   "source": [
    "# Множества (Sets, изменяемые, неупорядоченные)\n",
    "# Создание\n",
    "### С помощью встроенной функции set()"
   ]
  },
  {
   "cell_type": "code",
   "execution_count": 198,
   "metadata": {},
   "outputs": [
    {
     "name": "stdout",
     "output_type": "stream",
     "text": [
      "set()\n"
     ]
    }
   ],
   "source": [
    "a = set()\n",
    "print(a)"
   ]
  },
  {
   "cell_type": "code",
   "execution_count": 199,
   "metadata": {},
   "outputs": [
    {
     "name": "stdout",
     "output_type": "stream",
     "text": [
      "{'a', 'c', 'b'}\n"
     ]
    }
   ],
   "source": [
    "a = set([\"a\", \"b\", \"c\"])\n",
    "print(a)"
   ]
  },
  {
   "cell_type": "code",
   "execution_count": 200,
   "metadata": {},
   "outputs": [
    {
     "name": "stdout",
     "output_type": "stream",
     "text": [
      "{'a', 'c', 'b', ' '}\n"
     ]
    }
   ],
   "source": [
    "a = set(\"a b c\")\n",
    "print(a)"
   ]
  },
  {
   "cell_type": "markdown",
   "metadata": {},
   "source": [
    "### С помощью присваивания"
   ]
  },
  {
   "cell_type": "code",
   "execution_count": 201,
   "metadata": {},
   "outputs": [
    {
     "name": "stdout",
     "output_type": "stream",
     "text": [
      "{} <class 'dict'>\n"
     ]
    }
   ],
   "source": [
    "a = {}\n",
    "print(a, type(a))"
   ]
  },
  {
   "cell_type": "code",
   "execution_count": 202,
   "metadata": {
    "scrolled": true
   },
   "outputs": [
    {
     "name": "stdout",
     "output_type": "stream",
     "text": [
      "{'a', 'c', 'b'}\n"
     ]
    }
   ],
   "source": [
    "a = {\"a\", \"b\", \"c\"}\n",
    "print(a)"
   ]
  },
  {
   "cell_type": "markdown",
   "metadata": {},
   "source": [
    "### С помощью генератора множеств"
   ]
  },
  {
   "cell_type": "code",
   "execution_count": 204,
   "metadata": {},
   "outputs": [
    {
     "name": "stdout",
     "output_type": "stream",
     "text": [
      "{'a', 'e', 'g', 'd', 'c', 'b', 'f', 'h'}\n"
     ]
    }
   ],
   "source": [
    "a = {chr(i) for i in range(97, 105)}\n",
    "print(a)"
   ]
  },
  {
   "cell_type": "markdown",
   "metadata": {},
   "source": [
    "### Методы и  операции"
   ]
  },
  {
   "cell_type": "markdown",
   "metadata": {},
   "source": [
    "#### Объединение"
   ]
  },
  {
   "cell_type": "code",
   "execution_count": 205,
   "metadata": {},
   "outputs": [
    {
     "name": "stdout",
     "output_type": "stream",
     "text": [
      "{'a', 'c', 'b'}\n",
      "{'a', 'c', 'b'}\n"
     ]
    }
   ],
   "source": [
    "A = {\"a\", \"b\"}\n",
    "B = {\"b\", \"c\"}\n",
    "\n",
    "C = A | B\n",
    "print(C)\n",
    "\n",
    "C = A.union(B)\n",
    "print(C)"
   ]
  },
  {
   "cell_type": "code",
   "execution_count": 206,
   "metadata": {},
   "outputs": [
    {
     "name": "stdout",
     "output_type": "stream",
     "text": [
      "{'a', 'c', 'b'}\n",
      "{'a', 'c', 'b'}\n"
     ]
    }
   ],
   "source": [
    "A = {\"a\", \"b\"}\n",
    "B = {\"b\", \"c\"}\n",
    "\n",
    "A |= B\n",
    "print(A)\n",
    "\n",
    "A = {\"a\", \"b\"}\n",
    "B = {\"b\", \"c\"}\n",
    "\n",
    "A.update(B)\n",
    "print(A)"
   ]
  },
  {
   "cell_type": "markdown",
   "metadata": {},
   "source": [
    "#### Пересечение"
   ]
  },
  {
   "cell_type": "code",
   "execution_count": 207,
   "metadata": {},
   "outputs": [
    {
     "name": "stdout",
     "output_type": "stream",
     "text": [
      "{'b'}\n",
      "{'b'}\n"
     ]
    }
   ],
   "source": [
    "A = {\"a\", \"b\"}\n",
    "B = {\"b\", \"c\"}\n",
    "\n",
    "C = A & B\n",
    "print(C)\n",
    "\n",
    "C = A.intersection(B)\n",
    "print(C)"
   ]
  },
  {
   "cell_type": "code",
   "execution_count": 208,
   "metadata": {},
   "outputs": [
    {
     "name": "stdout",
     "output_type": "stream",
     "text": [
      "{'b'}\n",
      "{'b'}\n"
     ]
    }
   ],
   "source": [
    "A = {\"a\", \"b\"}\n",
    "B = {\"b\", \"c\"}\n",
    "\n",
    "A &= B\n",
    "print(A)\n",
    "\n",
    "A = {\"a\", \"b\"}\n",
    "B = {\"b\", \"c\"}\n",
    "\n",
    "A.intersection_update(B)\n",
    "print(A)"
   ]
  },
  {
   "cell_type": "markdown",
   "metadata": {},
   "source": [
    "#### Разность"
   ]
  },
  {
   "cell_type": "code",
   "execution_count": 209,
   "metadata": {},
   "outputs": [
    {
     "name": "stdout",
     "output_type": "stream",
     "text": [
      "{'a'}\n",
      "{'a'}\n"
     ]
    }
   ],
   "source": [
    "A = {\"a\", \"b\"}\n",
    "B = {\"b\", \"c\"}\n",
    "\n",
    "C = A - B\n",
    "print(C)\n",
    "\n",
    "C = A.difference(B)\n",
    "print(C)"
   ]
  },
  {
   "cell_type": "code",
   "execution_count": 210,
   "metadata": {},
   "outputs": [
    {
     "name": "stdout",
     "output_type": "stream",
     "text": [
      "{'a'}\n",
      "{'a'}\n"
     ]
    }
   ],
   "source": [
    "A = {\"a\", \"b\"}\n",
    "B = {\"b\", \"c\"}\n",
    "\n",
    "A -= B\n",
    "print(A)\n",
    "\n",
    "A = {\"a\", \"b\"}\n",
    "B = {\"b\", \"c\"}\n",
    "\n",
    "A.difference_update(B)\n",
    "print(A)"
   ]
  },
  {
   "cell_type": "markdown",
   "metadata": {},
   "source": [
    "#### Симметрическая разность"
   ]
  },
  {
   "cell_type": "code",
   "execution_count": 211,
   "metadata": {},
   "outputs": [
    {
     "name": "stdout",
     "output_type": "stream",
     "text": [
      "{'a', 'c'}\n",
      "{'a', 'c'}\n"
     ]
    }
   ],
   "source": [
    "A = {\"a\", \"b\"}\n",
    "B = {\"b\", \"c\"}\n",
    "\n",
    "C = A ^ B\n",
    "print(C)\n",
    "\n",
    "C = A.symmetric_difference(B)\n",
    "print(C)"
   ]
  },
  {
   "cell_type": "code",
   "execution_count": null,
   "metadata": {},
   "outputs": [],
   "source": [
    "A = {\"a\", \"b\"}\n",
    "B = {\"b\", \"c\"}\n",
    "\n",
    "A ^= B\n",
    "print(A)\n",
    "\n",
    "A = {\"a\", \"b\"}\n",
    "B = {\"b\", \"c\"}\n",
    "\n",
    "A.symmetric_difference_update(B)\n",
    "print(A)"
   ]
  },
  {
   "cell_type": "markdown",
   "metadata": {},
   "source": [
    "#### Проверка на подмножество/супермножество"
   ]
  },
  {
   "cell_type": "code",
   "execution_count": 214,
   "metadata": {},
   "outputs": [
    {
     "name": "stdout",
     "output_type": "stream",
     "text": [
      "False\n",
      "True\n",
      "True\n",
      "True\n"
     ]
    }
   ],
   "source": [
    "A = {\"b\", \"c\"}\n",
    "B = {\"b\", \"c\"}\n",
    "\n",
    "print(A<B)\n",
    "print(A.issubset(B))\n",
    "\n",
    "print(A>=B)\n",
    "print(A.issuperset(B))"
   ]
  },
  {
   "cell_type": "code",
   "execution_count": 215,
   "metadata": {},
   "outputs": [
    {
     "name": "stdout",
     "output_type": "stream",
     "text": [
      "False\n",
      "True\n"
     ]
    }
   ],
   "source": [
    "A = {\"a\", \"b\", \"c\"}\n",
    "B = {\"b\", \"c\"}\n",
    "\n",
    "print(A<B)\n",
    "\n",
    "print(A>B)"
   ]
  },
  {
   "cell_type": "markdown",
   "metadata": {},
   "source": [
    "#### Эквивалентность множеств"
   ]
  },
  {
   "cell_type": "code",
   "execution_count": 217,
   "metadata": {},
   "outputs": [
    {
     "name": "stdout",
     "output_type": "stream",
     "text": [
      "True\n"
     ]
    }
   ],
   "source": [
    "A = {\"a\", \"b\"}\n",
    "B = {\"b\", \"a\"}\n",
    "print(A==B)"
   ]
  },
  {
   "cell_type": "markdown",
   "metadata": {},
   "source": [
    "#### Наличие общих элементов"
   ]
  },
  {
   "cell_type": "code",
   "execution_count": 219,
   "metadata": {},
   "outputs": [
    {
     "name": "stdout",
     "output_type": "stream",
     "text": [
      "True\n"
     ]
    }
   ],
   "source": [
    "A = {\"a\", \"f\"}\n",
    "B = {\"b\", \"c\"}\n",
    "print(A.isdisjoint(B))"
   ]
  },
  {
   "cell_type": "markdown",
   "metadata": {},
   "source": [
    "#### Копирование"
   ]
  },
  {
   "cell_type": "code",
   "execution_count": 220,
   "metadata": {},
   "outputs": [
    {
     "name": "stdout",
     "output_type": "stream",
     "text": [
      "{'a', 'b'}\n"
     ]
    }
   ],
   "source": [
    "A = {\"a\", \"b\"}\n",
    "B = A.copy()\n",
    "print(B)"
   ]
  },
  {
   "cell_type": "markdown",
   "metadata": {},
   "source": [
    "#### Мощность "
   ]
  },
  {
   "cell_type": "code",
   "execution_count": 221,
   "metadata": {},
   "outputs": [
    {
     "name": "stdout",
     "output_type": "stream",
     "text": [
      "2\n"
     ]
    }
   ],
   "source": [
    "A = {\"a\", \"b\"}\n",
    "print(len(A))"
   ]
  },
  {
   "cell_type": "markdown",
   "metadata": {},
   "source": [
    "#### Проверка вхождения элемента"
   ]
  },
  {
   "cell_type": "code",
   "execution_count": 223,
   "metadata": {},
   "outputs": [
    {
     "name": "stdout",
     "output_type": "stream",
     "text": [
      "False\n"
     ]
    }
   ],
   "source": [
    "A = {\"a\", \"b\"}\n",
    "print(\"g\" in A)"
   ]
  },
  {
   "cell_type": "markdown",
   "metadata": {},
   "source": [
    "#### Добавление элемента"
   ]
  },
  {
   "cell_type": "code",
   "execution_count": 224,
   "metadata": {},
   "outputs": [
    {
     "name": "stdout",
     "output_type": "stream",
     "text": [
      "{'a', 'c', 'b'}\n"
     ]
    }
   ],
   "source": [
    "A = {\"a\", \"b\"}\n",
    "A.add(\"c\")\n",
    "print(A)"
   ]
  },
  {
   "cell_type": "markdown",
   "metadata": {},
   "source": [
    "#### Удаление элемента \n",
    "генерирует исключение, если такого элемента не существует"
   ]
  },
  {
   "cell_type": "code",
   "execution_count": 225,
   "metadata": {},
   "outputs": [
    {
     "name": "stdout",
     "output_type": "stream",
     "text": [
      "{'b'}\n"
     ]
    }
   ],
   "source": [
    "A = {\"a\", \"b\"}\n",
    "A.remove(\"a\")\n",
    "print(A)"
   ]
  },
  {
   "cell_type": "code",
   "execution_count": 226,
   "metadata": {},
   "outputs": [
    {
     "ename": "KeyError",
     "evalue": "'a'",
     "output_type": "error",
     "traceback": [
      "\u001b[1;31m---------------------------------------------------------------------------\u001b[0m",
      "\u001b[1;31mKeyError\u001b[0m                                  Traceback (most recent call last)",
      "Cell \u001b[1;32mIn[226], line 1\u001b[0m\n\u001b[1;32m----> 1\u001b[0m \u001b[43mA\u001b[49m\u001b[38;5;241;43m.\u001b[39;49m\u001b[43mremove\u001b[49m\u001b[43m(\u001b[49m\u001b[38;5;124;43m\"\u001b[39;49m\u001b[38;5;124;43ma\u001b[39;49m\u001b[38;5;124;43m\"\u001b[39;49m\u001b[43m)\u001b[49m\n",
      "\u001b[1;31mKeyError\u001b[0m: 'a'"
     ]
    }
   ],
   "source": [
    "A.remove(\"a\")"
   ]
  },
  {
   "cell_type": "markdown",
   "metadata": {},
   "source": [
    "#### Удаление элемента"
   ]
  },
  {
   "cell_type": "code",
   "execution_count": 227,
   "metadata": {},
   "outputs": [
    {
     "name": "stdout",
     "output_type": "stream",
     "text": [
      "{'b'}\n"
     ]
    }
   ],
   "source": [
    "A = {\"a\", \"b\"}\n",
    "A.discard(\"a\")\n",
    "print(A)"
   ]
  },
  {
   "cell_type": "code",
   "execution_count": 228,
   "metadata": {},
   "outputs": [],
   "source": [
    "A.discard(\"a\")"
   ]
  },
  {
   "cell_type": "markdown",
   "metadata": {},
   "source": [
    "#### Исключение произвольного элемента"
   ]
  },
  {
   "cell_type": "code",
   "execution_count": 234,
   "metadata": {},
   "outputs": [
    {
     "name": "stdout",
     "output_type": "stream",
     "text": [
      "a {'c', 'b'}\n",
      "c {'b'}\n"
     ]
    }
   ],
   "source": [
    "A = {\"a\", \"b\", \"c\"}\n",
    "\n",
    "a = A.pop()\n",
    "print(a, A)\n",
    "\n",
    "a = A.pop()\n",
    "print(a, A)"
   ]
  },
  {
   "cell_type": "code",
   "execution_count": 236,
   "metadata": {},
   "outputs": [
    {
     "name": "stdout",
     "output_type": "stream",
     "text": [
      "a\n",
      "c\n",
      "b\n",
      "set()\n"
     ]
    }
   ],
   "source": [
    "A = {\"a\", \"b\", \"c\"}\n",
    "\n",
    "while len(A) > 0:\n",
    "    print(A.pop())\n",
    "    \n",
    "print(A)"
   ]
  },
  {
   "cell_type": "markdown",
   "metadata": {},
   "source": [
    "#### Очистка"
   ]
  },
  {
   "cell_type": "code",
   "execution_count": 237,
   "metadata": {},
   "outputs": [
    {
     "name": "stdout",
     "output_type": "stream",
     "text": [
      "set()\n"
     ]
    }
   ],
   "source": [
    "A = {\"a\", \"b\", \"c\"}\n",
    "A.clear()\n",
    "print(A)"
   ]
  },
  {
   "cell_type": "markdown",
   "metadata": {},
   "source": [
    "Все методы можно посмотреть [здесь](https://pythonworld.ru/tipy-dannyx-v-python/slovari-dict-funkcii-i-metody-slovarej.html)."
   ]
  },
  {
   "cell_type": "markdown",
   "metadata": {},
   "source": [
    "# Пример использования множеств"
   ]
  },
  {
   "cell_type": "markdown",
   "metadata": {},
   "source": [
    "Пусть имеется следующая серия непересекающихся множеств: $L_{ми}$ - множество мужских имен - Миша, Андрей, Петя, ..., $L_{жи}$ - множество женских имен - Марина, Таня, Катя, ..., $L_{си}$ - множество \"средних\" имен - Валя, Саша, Женя, ..., $L_{мф}$ - множество мужских фамилий - Шамашов, Сидоров, Петров, ..., $L_{жф}$ - множество женских фамилий - Наянова, Михеева, Соловьева, ... и множество \"средних\" фамилий $L_{сф}$=Кричевер, Пономаренко, Перебейнос, ... Требуется вывести все правильные сочетания имен и фамилий."
   ]
  },
  {
   "cell_type": "markdown",
   "metadata": {},
   "source": [
    "Объявим множества имен"
   ]
  },
  {
   "cell_type": "code",
   "execution_count": 238,
   "metadata": {},
   "outputs": [],
   "source": [
    "m_name = {\"Миша\", \"Андрей\", \"Петя\"}\n",
    "f_name = {\"Марина\", \"Таня\", \"Катя\"}\n",
    "fm_name = {\"Валя\", \"Саша\", \"Женя\"}"
   ]
  },
  {
   "cell_type": "markdown",
   "metadata": {},
   "source": [
    "Объявим множества фамилий"
   ]
  },
  {
   "cell_type": "code",
   "execution_count": 239,
   "metadata": {},
   "outputs": [],
   "source": [
    "m_sname = {\"Шамашов\", \"Сидоров\", \"Петров\"}\n",
    "f_sname = {\"Наянова\", \"Михеева\", \"Соловьева\"}\n",
    "fm_sname = {\"Кричевер\", \"Пономаренко\", \"Перебейнос\"}"
   ]
  },
  {
   "cell_type": "code",
   "execution_count": 240,
   "metadata": {},
   "outputs": [
    {
     "name": "stdout",
     "output_type": "stream",
     "text": [
      "Андрей Шамашов\n",
      "Андрей Петров\n",
      "Андрей Сидоров\n",
      "Андрей Кричевер\n",
      "Андрей Пономаренко\n",
      "Андрей Перебейнос\n",
      "Петя Шамашов\n",
      "Петя Петров\n",
      "Петя Сидоров\n",
      "Петя Кричевер\n",
      "Петя Пономаренко\n",
      "Петя Перебейнос\n",
      "Миша Шамашов\n",
      "Миша Петров\n",
      "Миша Сидоров\n",
      "Миша Кричевер\n",
      "Миша Пономаренко\n",
      "Миша Перебейнос\n",
      "Таня Пономаренко\n",
      "Таня Наянова\n",
      "Таня Соловьева\n",
      "Таня Михеева\n",
      "Таня Перебейнос\n",
      "Таня Кричевер\n",
      "Катя Пономаренко\n",
      "Катя Наянова\n",
      "Катя Соловьева\n",
      "Катя Михеева\n",
      "Катя Перебейнос\n",
      "Катя Кричевер\n",
      "Марина Пономаренко\n",
      "Марина Наянова\n",
      "Марина Соловьева\n",
      "Марина Михеева\n",
      "Марина Перебейнос\n",
      "Марина Кричевер\n",
      "Саша Шамашов\n",
      "Саша Петров\n",
      "Саша Сидоров\n",
      "Саша Пономаренко\n",
      "Саша Перебейнос\n",
      "Саша Наянова\n",
      "Саша Соловьева\n",
      "Саша Михеева\n",
      "Саша Кричевер\n",
      "Валя Шамашов\n",
      "Валя Петров\n",
      "Валя Сидоров\n",
      "Валя Пономаренко\n",
      "Валя Перебейнос\n",
      "Валя Наянова\n",
      "Валя Соловьева\n",
      "Валя Михеева\n",
      "Валя Кричевер\n",
      "Женя Шамашов\n",
      "Женя Петров\n",
      "Женя Сидоров\n",
      "Женя Пономаренко\n",
      "Женя Перебейнос\n",
      "Женя Наянова\n",
      "Женя Соловьева\n",
      "Женя Михеева\n",
      "Женя Кричевер\n"
     ]
    }
   ],
   "source": [
    "# Правильные сочетания с мужскими именами\n",
    "for name in m_name:\n",
    "    for sname in m_sname | fm_sname:\n",
    "        print(name, sname)\n",
    "\n",
    "# Правильные сочетания с женскими именами\n",
    "for name in f_name:\n",
    "    for sname in f_sname | fm_sname:\n",
    "        print(name, sname)        \n",
    "\n",
    "# Правильные сочетания со \"средними\" именами\n",
    "for name in fm_name:\n",
    "    for sname in f_sname | m_sname | fm_sname:\n",
    "        print(name, sname)"
   ]
  },
  {
   "cell_type": "markdown",
   "metadata": {},
   "source": [
    "# Пример использования словарей"
   ]
  },
  {
   "cell_type": "markdown",
   "metadata": {},
   "source": [
    "Создать структуру данных для хранения результатов сессии"
   ]
  },
  {
   "cell_type": "code",
   "execution_count": 241,
   "metadata": {},
   "outputs": [],
   "source": [
    "# отметки : предмет, оценка - словарь\n",
    "# группа : студент, отметки - словарь\n",
    "# студент : Фамилия, имя, отчество - кортеж\n",
    "\n",
    "student1 = (\"Иванов\", \"Иван\", \"Иванович\")\n",
    "student2 = (\"Петров\", \"Петр\", \"Петрович\")\n",
    "marks1 = {\"Математика\" : 1, \"Физика\" : 2}\n",
    "marks2 = {\"Математика\" : 4, \"Физика\" : 2}\n",
    "group = {student1: marks1, student2: marks2}"
   ]
  },
  {
   "cell_type": "markdown",
   "metadata": {},
   "source": [
    "Найдем всех двоечников"
   ]
  },
  {
   "cell_type": "code",
   "execution_count": 242,
   "metadata": {},
   "outputs": [
    {
     "name": "stdout",
     "output_type": "stream",
     "text": [
      "Иванов Иван Иванович  -  Математика\n",
      "Иванов Иван Иванович  -  Физика\n",
      "Петров Петр Петрович  -  Физика\n"
     ]
    }
   ],
   "source": [
    "for fio, marks in group.items():\n",
    "    for subj, mark in marks.items():\n",
    "        if mark < 3:\n",
    "            print(fio[0], fio[1], fio[2], \" - \", subj)    "
   ]
  },
  {
   "cell_type": "code",
   "execution_count": null,
   "metadata": {},
   "outputs": [],
   "source": []
  }
 ],
 "metadata": {
  "kernelspec": {
   "display_name": "Python 3 (ipykernel)",
   "language": "python",
   "name": "python3"
  },
  "language_info": {
   "codemirror_mode": {
    "name": "ipython",
    "version": 3
   },
   "file_extension": ".py",
   "mimetype": "text/x-python",
   "name": "python",
   "nbconvert_exporter": "python",
   "pygments_lexer": "ipython3",
   "version": "3.9.13"
  }
 },
 "nbformat": 4,
 "nbformat_minor": 4
}
