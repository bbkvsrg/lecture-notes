{
 "cells": [
  {
   "cell_type": "code",
   "execution_count": 1,
   "id": "d040ff9d-f3c6-466f-b33e-5515519588a7",
   "metadata": {},
   "outputs": [
    {
     "name": "stdin",
     "output_type": "stream",
     "text": [
      "Введите N:  3\n"
     ]
    }
   ],
   "source": [
    "N = int(input(\"Введите N: \"))\n",
    "\n",
    "dictionary = {}"
   ]
  },
  {
   "cell_type": "code",
   "execution_count": 2,
   "id": "f21fbfc7-be13-465f-8770-f2f73184ba1f",
   "metadata": {},
   "outputs": [
    {
     "name": "stdout",
     "output_type": "stream",
     "text": [
      "\n",
      "c\n",
      "b\n",
      "a\n",
      "bc\n",
      "ac\n",
      "ab\n",
      "abc\n",
      "{(1, ''): set(), (2, 'c'): {'c'}, (3, 'b'): {'b'}, (4, 'a'): {'a'}, (5, 'bc'): {'b', 'c'}, (6, 'ac'): {'c', 'a'}, (7, 'ab'): {'b', 'a'}, (8, 'abc'): {'b', 'c', 'a'}}\n"
     ]
    }
   ],
   "source": [
    "for k in range(N + 1):\n",
    "    storage = [(0, '')]  # магический параметр и строка-результат\n",
    "\n",
    "    while storage:\n",
    "        l, res = storage.pop()\n",
    "\n",
    "        if len(res) == k:\n",
    "            print(res)\n",
    "            dictionary.update({tuple([len(dictionary) + 1, res]): set(res)})\n",
    "            continue\n",
    "\n",
    "        for i in range(l + 1, N - (k - len(res)) + 2):\n",
    "            storage.append((i, res + str(chr(96 + i))))\n",
    "    \n",
    "print(dictionary)"
   ]
  },
  {
   "cell_type": "code",
   "execution_count": null,
   "id": "5fe1106a-b75c-4433-9313-611762f6d45f",
   "metadata": {},
   "outputs": [],
   "source": []
  },
  {
   "cell_type": "code",
   "execution_count": null,
   "id": "45b43c47-da7d-48a9-8600-02c9f8c8c108",
   "metadata": {},
   "outputs": [],
   "source": []
  },
  {
   "cell_type": "code",
   "execution_count": null,
   "id": "19b6962f-a153-4190-a982-7c650e0516eb",
   "metadata": {},
   "outputs": [],
   "source": []
  },
  {
   "cell_type": "code",
   "execution_count": null,
   "id": "b378f48b-ac22-4e8a-87d0-4acf2b51e182",
   "metadata": {},
   "outputs": [],
   "source": []
  }
 ],
 "metadata": {
  "kernelspec": {
   "display_name": "Python 3 (ipykernel)",
   "language": "python",
   "name": "python3"
  },
  "language_info": {
   "codemirror_mode": {
    "name": "ipython",
    "version": 3
   },
   "file_extension": ".py",
   "mimetype": "text/x-python",
   "name": "python",
   "nbconvert_exporter": "python",
   "pygments_lexer": "ipython3",
   "version": "3.9.13"
  }
 },
 "nbformat": 4,
 "nbformat_minor": 5
}
