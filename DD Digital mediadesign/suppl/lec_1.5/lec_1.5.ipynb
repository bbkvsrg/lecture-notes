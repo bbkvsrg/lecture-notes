{
 "cells": [
  {
   "cell_type": "markdown",
   "metadata": {},
   "source": [
    "# Работа с файлами"
   ]
  },
  {
   "cell_type": "markdown",
   "metadata": {},
   "source": [
    "## Типы файлов\n",
    "1. Текстовые - информация хранится в виде кодов привычных нам символов.\n",
    "2. Двоичные (бинарные) - информация хранится в виде последовательности байтов."
   ]
  },
  {
   "cell_type": "markdown",
   "metadata": {},
   "source": [
    "### Текстовые файлы\n",
    "Рассматриваем на примере кодировки ascii.\n",
    "Каждый симвод кодируется числом $\\in[0,255]$.\n",
    "![title](img/ascii.png)\n",
    "[Источник изображения](https://commons.wikimedia.org/wiki/File:Ascii_Table-nocolor.svg)\n",
    "\n",
    "### Бинарные файлы\n",
    "Вся информация представляется как последовательность байтов: **\\xc2\\x01\\x83\\xc0\\x01\\x0f\\xb6H\\xff\\x80:\\x00\\x88J\\xffu\\xee\\x8b\\xb3\\xa8\\x0b\\x00\\x00\\x85**\n",
    "\n",
    "Посмотрите типы [bytes и bytearray](https://pythonworld.ru/tipy-dannyx-v-python/bajty-bytes-i-bytearray.html).\n",
    "\n",
    "Один и тот же файл можно интрепретировать разными способами"
   ]
  },
  {
   "cell_type": "markdown",
   "metadata": {},
   "source": [
    "## Операции над файлами"
   ]
  },
  {
   "cell_type": "markdown",
   "metadata": {},
   "source": [
    "Последовательность действий:\n",
    "1. Открыть файл.\n",
    "2. Прочитать/записать данные.\n",
    "3. Закрыть файл."
   ]
  },
  {
   "cell_type": "markdown",
   "metadata": {},
   "source": [
    "### Открытие / Закрытие"
   ]
  },
  {
   "cell_type": "markdown",
   "metadata": {},
   "source": [
    "Функция открытия файла (все параметры можно посмотреть [тут](https://docs.python.org/3/library/functions.html#open)):\n",
    "\n",
    "`open(file, mode='r', encoding=None)`\n",
    "\n",
    "* `file` - имя файла / дискриптор файла.\n",
    "* `mode` - режим открытия.\n",
    "* `encoding` - кодировка (например `\"utf-8\"`)."
   ]
  },
  {
   "cell_type": "markdown",
   "metadata": {},
   "source": [
    "Значение `mode`:\n",
    "\n",
    "| Режим\t | Обозначение |\n",
    "| --- | --- |\n",
    "| 'r' | Чтение. Указатель файла в начале. |\n",
    "| 'w' | Запись. Файл будет перезаписан/создан. Указатель файла в начале. |\n",
    "| 'x' | Запись, для несуществующего файла, в противном случае исключение. Указатель файла в начале. |\n",
    "| 'a' | Запись. Файл будет дописан/создан. Указатель файла в конце. |\n",
    "| 'b' | Открытие двоичного файла. |\n",
    "| 't' | Открытие текстового файла (по умолчанию). |\n",
    "| '+' | Чтение и запись. |\n",
    "\n",
    "Режимы могут комбинироваться: \n",
    "* r, rt - открыть текстовый файл на чтение, указатель в начале файла;\n",
    "* r+, r+t - открыть текстовый файл на чтение/запись, указатель в начале файла; \n",
    "* w, wt - создать/перезаписать текстовый файл для записи, указатель в начале файла;  \n",
    "* w+, w+t - создать/перезаписать текстовый файл для чтения/записи, указатель в начале файла;  \n",
    "...\n",
    "* rb - открыть бинарный файл на чтение, указатель в начале файла;\n",
    "* r+b - открыть бинарный файл на чтение/запись, указатель в начале файла;\n",
    "* wb - создать/перезаписать бинарный файл для записи, указатель в начале файла; \n",
    "* w+b - создать/перезаписать бинарный файл для чтения/записи, указатель в начале файла;"
   ]
  },
  {
   "cell_type": "markdown",
   "metadata": {},
   "source": [
    "Путь к файлу может быть:\n",
    "* полным (`\"/home/user/new/text.txt\"`, `\"C:\\Users\\user\\new\\text.txt\"`)\n",
    "* относительным (`\"new/text.txt\"`, `\"new\\text.txt\"`, `\"text.txt\"`)\n",
    "\n",
    "Т.к. путь к файлу может содержать пробелы, а в Windows для разделения названия каталогов используется экранирующий символ `\"\\\"`, то надо быть акуратным при указании пути.\n",
    "\n",
    "Продемонстрируем на следующем примере:"
   ]
  },
  {
   "cell_type": "code",
   "execution_count": 1,
   "metadata": {},
   "outputs": [
    {
     "ename": "SyntaxError",
     "evalue": "(unicode error) 'unicodeescape' codec can't decode bytes in position 2-3: truncated \\UXXXXXXXX escape (400288086.py, line 1)",
     "output_type": "error",
     "traceback": [
      "\u001b[1;36m  Cell \u001b[1;32mIn[1], line 1\u001b[1;36m\u001b[0m\n\u001b[1;33m    print(\"C:\\Users\\user\\new\\text.txt\")\u001b[0m\n\u001b[1;37m                                      ^\u001b[0m\n\u001b[1;31mSyntaxError\u001b[0m\u001b[1;31m:\u001b[0m (unicode error) 'unicodeescape' codec can't decode bytes in position 2-3: truncated \\UXXXXXXXX escape\n"
     ]
    }
   ],
   "source": [
    "print(\"C:\\Users\\user\\new\\text.txt\")"
   ]
  },
  {
   "cell_type": "markdown",
   "metadata": {},
   "source": [
    "При таком подходе необходимо экранировать `\"\\\"`"
   ]
  },
  {
   "cell_type": "code",
   "execution_count": 2,
   "metadata": {},
   "outputs": [
    {
     "name": "stdout",
     "output_type": "stream",
     "text": [
      "C:\\Users\\user\\new\\text.txt\n"
     ]
    }
   ],
   "source": [
    "print(\"C:\\\\Users\\\\user\\\\new\\\\text.txt\")"
   ]
  },
  {
   "cell_type": "markdown",
   "metadata": {},
   "source": [
    "А еще проще использовать \"сырые\" строки"
   ]
  },
  {
   "cell_type": "code",
   "execution_count": 3,
   "metadata": {},
   "outputs": [
    {
     "name": "stdout",
     "output_type": "stream",
     "text": [
      "C:\\Users\\user\\new\\text.txt\n"
     ]
    }
   ],
   "source": [
    "print(r\"C:\\Users\\user\\new\\text.txt\")"
   ]
  },
  {
   "cell_type": "markdown",
   "metadata": {},
   "source": [
    "#### Откроем файл по относительному пути"
   ]
  },
  {
   "cell_type": "code",
   "execution_count": 4,
   "metadata": {},
   "outputs": [],
   "source": [
    "f = open('data/text.txt', 'r+t')\n",
    "f.close()"
   ]
  },
  {
   "cell_type": "markdown",
   "metadata": {},
   "source": [
    "Не забывайте закрывать файл!!!"
   ]
  },
  {
   "cell_type": "markdown",
   "metadata": {},
   "source": [
    "При открытии файлов могут возникать исключения"
   ]
  },
  {
   "cell_type": "code",
   "execution_count": 5,
   "metadata": {},
   "outputs": [
    {
     "ename": "FileNotFoundError",
     "evalue": "[Errno 2] No such file or directory: 'data/my.txt'",
     "output_type": "error",
     "traceback": [
      "\u001b[1;31m---------------------------------------------------------------------------\u001b[0m",
      "\u001b[1;31mFileNotFoundError\u001b[0m                         Traceback (most recent call last)",
      "Cell \u001b[1;32mIn[5], line 1\u001b[0m\n\u001b[1;32m----> 1\u001b[0m f \u001b[38;5;241m=\u001b[39m \u001b[38;5;28;43mopen\u001b[39;49m\u001b[43m(\u001b[49m\u001b[38;5;124;43m'\u001b[39;49m\u001b[38;5;124;43mdata/my.txt\u001b[39;49m\u001b[38;5;124;43m'\u001b[39;49m\u001b[43m,\u001b[49m\u001b[43m \u001b[49m\u001b[38;5;124;43m'\u001b[39;49m\u001b[38;5;124;43mr\u001b[39;49m\u001b[38;5;124;43m'\u001b[39;49m\u001b[43m)\u001b[49m\n",
      "File \u001b[1;32mC:\\Python\\Python39\\lib\\site-packages\\IPython\\core\\interactiveshell.py:310\u001b[0m, in \u001b[0;36m_modified_open\u001b[1;34m(file, *args, **kwargs)\u001b[0m\n\u001b[0;32m    303\u001b[0m \u001b[38;5;28;01mif\u001b[39;00m file \u001b[38;5;129;01min\u001b[39;00m {\u001b[38;5;241m0\u001b[39m, \u001b[38;5;241m1\u001b[39m, \u001b[38;5;241m2\u001b[39m}:\n\u001b[0;32m    304\u001b[0m     \u001b[38;5;28;01mraise\u001b[39;00m \u001b[38;5;167;01mValueError\u001b[39;00m(\n\u001b[0;32m    305\u001b[0m         \u001b[38;5;124mf\u001b[39m\u001b[38;5;124m\"\u001b[39m\u001b[38;5;124mIPython won\u001b[39m\u001b[38;5;124m'\u001b[39m\u001b[38;5;124mt let you open fd=\u001b[39m\u001b[38;5;132;01m{\u001b[39;00mfile\u001b[38;5;132;01m}\u001b[39;00m\u001b[38;5;124m by default \u001b[39m\u001b[38;5;124m\"\u001b[39m\n\u001b[0;32m    306\u001b[0m         \u001b[38;5;124m\"\u001b[39m\u001b[38;5;124mas it is likely to crash IPython. If you know what you are doing, \u001b[39m\u001b[38;5;124m\"\u001b[39m\n\u001b[0;32m    307\u001b[0m         \u001b[38;5;124m\"\u001b[39m\u001b[38;5;124myou can use builtins\u001b[39m\u001b[38;5;124m'\u001b[39m\u001b[38;5;124m open.\u001b[39m\u001b[38;5;124m\"\u001b[39m\n\u001b[0;32m    308\u001b[0m     )\n\u001b[1;32m--> 310\u001b[0m \u001b[38;5;28;01mreturn\u001b[39;00m io_open(file, \u001b[38;5;241m*\u001b[39margs, \u001b[38;5;241m*\u001b[39m\u001b[38;5;241m*\u001b[39mkwargs)\n",
      "\u001b[1;31mFileNotFoundError\u001b[0m: [Errno 2] No such file or directory: 'data/my.txt'"
     ]
    }
   ],
   "source": [
    "f = open('data/my.txt', 'r')"
   ]
  },
  {
   "cell_type": "markdown",
   "metadata": {},
   "source": [
    "Для безопасного открытия используют менеджеры контекста и отлавливание исключений"
   ]
  },
  {
   "cell_type": "code",
   "execution_count": 6,
   "metadata": {},
   "outputs": [],
   "source": [
    "with open('data/text.txt', 'r') as f:\n",
    "    # Действия над содержимым файла\n",
    "    pass"
   ]
  },
  {
   "cell_type": "code",
   "execution_count": 8,
   "metadata": {},
   "outputs": [
    {
     "name": "stdout",
     "output_type": "stream",
     "text": [
      "IOError\n"
     ]
    }
   ],
   "source": [
    "try:\n",
    "    with open('data/my.txt', 'r') as f:\n",
    "        # Действия над содержимым файла\n",
    "        pass\n",
    "except IOError:\n",
    "    print('IOError')"
   ]
  },
  {
   "cell_type": "markdown",
   "metadata": {},
   "source": [
    "Менеджер контекста самостоятельно закрывает файл. "
   ]
  },
  {
   "cell_type": "markdown",
   "metadata": {},
   "source": [
    "### Работа с содержимым\n"
   ]
  },
  {
   "cell_type": "markdown",
   "metadata": {},
   "source": [
    "#### Метод read(size=-1)\n",
    "Читает size байт, если не указано, то весь файл."
   ]
  },
  {
   "cell_type": "code",
   "execution_count": 9,
   "metadata": {},
   "outputs": [
    {
     "name": "stdout",
     "output_type": "stream",
     "text": [
      "Type: <class 'str'>\n",
      "\n",
      "Len: 635\n",
      "\n",
      "william shakespeare\n",
      "\n",
      "From fairest creatures we desire increase,\n",
      "That thereby beauty's rose might never die,\n",
      "But as the riper should by time decease,\n",
      "His tender heir might bear his memory:\n",
      "\n",
      "But thou, contracted to thine own bright eyes,\n",
      "Feed'st thy light'st flame with self-substantial fuel,\n",
      "Making a famine where abundance lies,\n",
      "Thyself thy foe, to thy sweet self too cruel.\n",
      "\n",
      "Thou that art now the world's fresh ornament\n",
      "And only herald to the gaudy spring,\n",
      "Within thine own bud buriest thy content\n",
      "And, tender churl, makest waste in niggarding.\n",
      "\n",
      "Pity the world, or else this glutton be,\n",
      "To eat the world's due, by the grave and thee.\n",
      "\n"
     ]
    }
   ],
   "source": [
    "try:\n",
    "    with open('data/text.txt', 'r') as f:\n",
    "        data = f.read()\n",
    "        print(\"Type: \", type(data), \"\\n\\n\", \"Len: \", len(data), \"\\n\\n\", data, sep=\"\")\n",
    "except IOError:\n",
    "    print('IOError')"
   ]
  },
  {
   "cell_type": "code",
   "execution_count": 11,
   "metadata": {
    "scrolled": true
   },
   "outputs": [
    {
     "name": "stdout",
     "output_type": "stream",
     "text": [
      "Type: <class 'str'>\n",
      "Len: 100\n",
      "\n",
      "william shakespeare\n",
      "\n",
      "From fairest creatures we desire increase,\n",
      "That thereby beauty's rose might nev\n",
      "\n",
      "Type: <class 'str'>\n",
      "Len: 10\n",
      "\n",
      "er die,\n",
      "Bu\n",
      "\n"
     ]
    }
   ],
   "source": [
    "try:\n",
    "    with open('data/text.txt', 'r') as f:\n",
    "        data = f.read(100)\n",
    "        print(\"Type: \", type(data), \"\\n\", \"Len: \", len(data), \"\\n\\n\", data, \"\\n\", sep=\"\")\n",
    "        \n",
    "        data = f.read(10)\n",
    "        print(\"Type: \", type(data), \"\\n\", \"Len: \", len(data), \"\\n\\n\", data, \"\\n\", sep=\"\")\n",
    "except IOError:\n",
    "    print('IOError')"
   ]
  },
  {
   "cell_type": "code",
   "execution_count": 12,
   "metadata": {},
   "outputs": [
    {
     "name": "stdout",
     "output_type": "stream",
     "text": [
      "Type: <class 'bytes'>\n",
      "Len: 585\n",
      "\n",
      "b'\\xc2\\x01\\x83\\xc0\\x01\\x0f\\xb6H\\xff\\x80:\\x00\\x88J\\xffu\\xee\\x8b\\xb3\\xa8\\x0b\\x00\\x00\\x85\\xf6t\\x1e\\x89|$\\x04\\x894$\\xe8\\xe8\\xb1\\xfe\\xff\\x85\\xc0t\\x0e\\x80\\xbb\\xc8\\x0b\\x00\\x00\\x00\\x0f\\x85\\xde\\x00\\x00\\x00\\xcc\\x8bT$,\\xc7D$\\x04\\x00\\x00\\x00\\x00\\x8bD$ \\xc7\\x04$\\x01\\x00\\x00\\x00\\xe8z\\xf8\\xff\\xff\\x84\\xc0tn\\x80\\xbb\\xc8\\x0b\\x00\\x00\\x00\\x0f\\x84\\xc4\\xfe\\xff\\xff\\x8bD$ \\x89|$\\x0c\\x89D$\\x10\\x8d\\x83\\xe5S\\xff\\xff\\x89D$\\x08\\x8b\\x83\\xf4\\xff\\xff\\xff\\xc7D$\\x04\\x01\\x00\\x00\\x00\\x8b\\x00\\x89\\x04$\\xe8\\xcb\\xaf\\xfe\\xff\\xe9\\x91\\xfe\\xff\\xff\\x8d\\xb6\\x00\\x00\\x00\\x00\\x89t$\\x08\\x83\\xee\\x01\\x89\\x14$\\x89L$\\x04\\xe8-\\xaf\\xfe\\xff\\x8bT$ \\x89t$,\\x01\\xf2\\xe9\\xd9\\xfd\\xff\\xff\\x8d\\xb6\\x00\\x00\\x00\\x00\\x80\\xbb\\xc8\\x0b\\x00\\x00\\x00\\x0f\\x84\\x05\\xfd\\xff\\xff\\x8d\\x83\\xfbS\\xff\\xff\\x89|$\\x0c\\x89D$\\x08\\x8b\\x83\\xf4\\xff\\xff\\xff\\xc7D$\\x04\\x01\\x00\\x00\\x00\\x8b\\x00\\x89\\x04$\\xe8e\\xaf\\xfe\\xff\\xe9\\xda\\xfc\\xff\\xff\\x8bD$ \\x89|$\\x0c\\x89D$\\x10\\x8d\\x83\\xb8S\\xff\\xff\\xe9b\\xff\\xff\\xff\\x8d\\x83\\xceS\\xff\\xff\\x89t$\\x10\\x89D$\\x08\\x8b\\x83\\xf4\\xff\\xff\\xff\\x89|$\\x0c\\xc7D$\\x04\\x01\\x00\\x00\\x00\\x8b\\x00\\x89\\x04$\\xe8\\x1f\\xaf\\xfe\\xff\\xe9\\xf3\\xfe\\xff\\xff\\xe8\\x95\\xf6\\xff\\xff\\x89\\x04$\\x89\\xc6\\x89\\x83\\x98\\x0b\\x00\\x00\\xe8\\xf5\\xad\\xfe\\xff\\x89\\xf1\\x89\\x83\\x88\\x0b\\x00\\x00\\x89\\xc6\\xe9\\x01\\xfd\\xff\\xff\\xe8a\\x11\\x01\\x00\\x90UWVS\\xe8R\\xc4\\xfe\\xff\\x81\\xc3\\x8f\\xf7\\x01\\x00\\x81\\xecL\\x02\\x00\\x00\\x8b\\x84$h\\x02\\x00\\x00\\x8b\\xbc$d\\x02\\x00\\x00\\x8b\\xb4$`\\x02\\x00\\x00\\x89D$\\x18e\\xa1\\x14\\x00\\x00\\x00\\x89\\x84$<\\x02\\x00\\x001\\xc0\\x8d\\x83\\tT\\xff\\xff\\x89<$\\x89D$\\x04\\xe8a\\xb0\\xfe\\xff\\x85\\xf6\\x89t$0\\x89D$\\x1c\\xc7D$4\\x00\\x00\\x00\\x00tu\\x80>\\x00\\x0f\\x85\\x84\\x00\\x00\\x00\\xc7\\x84$8\\x02\\x00\\x00\\x03\\x00\\x00\\x00\\x8bD$0\\x89D$4\\x90\\x8bL$\\x18\\x89|$\\x04\\x89\\x04$\\x89L$\\x08\\xe8,\\xb0\\xfe\\xff\\x8bT$4;T$0t\\x18\\x8dL$89\\xcat\\x10\\x89\\x14$\\x89D$\\x18\\xe8\\x1e\\xb0\\xfe\\xff\\x8bD$\\x18\\x8b\\x8c$<\\x02\\x00\\x00e3\\r\\x14\\x00\\x00\\x00\\x0f\\x85\\xb6\\x03\\x00\\x00\\x81\\xc4L\\x02\\x00\\x00[^_]\\xc3\\x8dv\\x00\\xc7\\x84'\n",
      "\n"
     ]
    }
   ],
   "source": [
    "try:\n",
    "    with open('data/data.bin', 'br') as f:\n",
    "        data = f.read()\n",
    "        print(\"Type: \", type(data), \"\\n\", \"Len: \", len(data), \"\\n\\n\", data, \"\\n\", sep=\"\")\n",
    "except IOError:\n",
    "    print('IOError')"
   ]
  },
  {
   "cell_type": "markdown",
   "metadata": {},
   "source": [
    "#### Метод readline(size=-1)\n",
    "Читает size байт в строке, если не указано, то всю строку.\n",
    "\n",
    "Некорректно применять к бинарным файлам."
   ]
  },
  {
   "cell_type": "code",
   "execution_count": null,
   "metadata": {},
   "outputs": [],
   "source": [
    "try:\n",
    "    with open('data/text.txt', 'r') as f:\n",
    "        data = f.readline()\n",
    "        print(\"Type: \", type(data), \"\\n\", \"Len: \", len(data), \"\\n\\n\", data, \"\\n\", sep=\"\")\n",
    "except IOError:\n",
    "    print('IOError')"
   ]
  },
  {
   "cell_type": "code",
   "execution_count": null,
   "metadata": {},
   "outputs": [],
   "source": [
    "try:\n",
    "    with open('data/text.txt', 'r') as f:\n",
    "        data = f.readline(15)\n",
    "        print(\"Type: \", type(data), \"\\n\", \"Len: \", len(data), \"\\n\\n\", data, \"\\n\", sep=\"\")\n",
    "        data = f.readline(10)\n",
    "        print(\"Type: \", type(data), \"\\n\", \"Len: \", len(data), \"\\n\\n\", data, \"\\n\", sep=\"\")\n",
    "except IOError:\n",
    "    print('IOError')"
   ]
  },
  {
   "cell_type": "code",
   "execution_count": null,
   "metadata": {},
   "outputs": [],
   "source": [
    "try:\n",
    "    with open('data/text.txt', 'r') as f:\n",
    "        while True:\n",
    "            data = f.readline(10)\n",
    "            if data:\n",
    "                print(data)\n",
    "            else:\n",
    "                break                \n",
    "except IOError:\n",
    "    print('IOError')"
   ]
  },
  {
   "cell_type": "markdown",
   "metadata": {},
   "source": [
    "#### Метод readlines()\n",
    "Считывает все строки и возвращает их в виде списка.\n",
    "\n",
    "Некорректно применять к бинарным файлам."
   ]
  },
  {
   "cell_type": "code",
   "execution_count": 13,
   "metadata": {},
   "outputs": [
    {
     "name": "stdout",
     "output_type": "stream",
     "text": [
      "Type: <class 'list'>\n",
      "\n",
      "Len: 19\n",
      "\n",
      "['william shakespeare\\n', '\\n', 'From fairest creatures we desire increase,\\n', \"That thereby beauty's rose might never die,\\n\", 'But as the riper should by time decease,\\n', 'His tender heir might bear his memory:\\n', '\\n', 'But thou, contracted to thine own bright eyes,\\n', \"Feed'st thy light'st flame with self-substantial fuel,\\n\", 'Making a famine where abundance lies,\\n', 'Thyself thy foe, to thy sweet self too cruel.\\n', '\\n', \"Thou that art now the world's fresh ornament\\n\", 'And only herald to the gaudy spring,\\n', 'Within thine own bud buriest thy content\\n', 'And, tender churl, makest waste in niggarding.\\n', '\\n', 'Pity the world, or else this glutton be,\\n', \"To eat the world's due, by the grave and thee.\\n\"]\n"
     ]
    }
   ],
   "source": [
    "try:\n",
    "    with open('data/text.txt', 'r') as f:\n",
    "        data = f.readlines()\n",
    "        print(\"Type: \", type(data), \"\\n\\n\", \"Len: \", len(data), \"\\n\\n\", data, sep=\"\")\n",
    "except IOError:\n",
    "    print('IOError')"
   ]
  },
  {
   "cell_type": "code",
   "execution_count": 14,
   "metadata": {},
   "outputs": [
    {
     "name": "stdout",
     "output_type": "stream",
     "text": [
      "william sh\n",
      "\n",
      "\n",
      "From faire\n",
      "That there\n",
      "But as the\n",
      "His tender\n",
      "\n",
      "\n",
      "But thou, \n",
      "Feed'st th\n",
      "Making a f\n",
      "Thyself th\n",
      "\n",
      "\n",
      "Thou that \n",
      "And only h\n",
      "Within thi\n",
      "And, tende\n",
      "\n",
      "\n",
      "Pity the w\n",
      "To eat the\n"
     ]
    }
   ],
   "source": [
    "try:\n",
    "    with open('data/text.txt', 'r') as f:\n",
    "        data = f.readlines()\n",
    "        for line in data:\n",
    "            print(line[:10])\n",
    "except IOError:\n",
    "    print('IOError')"
   ]
  },
  {
   "cell_type": "markdown",
   "metadata": {},
   "source": [
    "#### Метод write(data)\n",
    "Пишет данные в файл. Возвращает количество записанных байтов."
   ]
  },
  {
   "cell_type": "code",
   "execution_count": 15,
   "metadata": {},
   "outputs": [
    {
     "name": "stdout",
     "output_type": "stream",
     "text": [
      "12\n"
     ]
    }
   ],
   "source": [
    "try:\n",
    "    with open('test.txt', 'w') as f:\n",
    "        print(f.write(\"It's a test.\"))\n",
    "except IOError:\n",
    "    print('IOError')"
   ]
  },
  {
   "cell_type": "code",
   "execution_count": null,
   "metadata": {},
   "outputs": [],
   "source": [
    "%pycat test.txt"
   ]
  },
  {
   "cell_type": "code",
   "execution_count": 16,
   "metadata": {},
   "outputs": [
    {
     "name": "stdout",
     "output_type": "stream",
     "text": [
      "5\n"
     ]
    }
   ],
   "source": [
    "try:\n",
    "    with open('test.b', 'wb') as f:\n",
    "        print(f.write(bytes([97, 98, 99, 100, 101])))\n",
    "except IOError:\n",
    "    print('IOError')"
   ]
  },
  {
   "cell_type": "code",
   "execution_count": 17,
   "metadata": {
    "jupyter": {
     "source_hidden": true
    }
   },
   "outputs": [
    {
     "data": {
      "text/plain": [
       "\u001b[0mabcde\u001b[0m\u001b[1;33m\u001b[0m\u001b[1;33m\u001b[0m\u001b[0m\n"
      ]
     },
     "metadata": {},
     "output_type": "display_data"
    }
   ],
   "source": [
    "%pycat test.b"
   ]
  },
  {
   "cell_type": "markdown",
   "metadata": {},
   "source": [
    "#### Метод writelines(data)\n",
    "Пишет строки в файл. Перенос строки автоматически не добавляется.\n",
    "\n",
    "Некорректно применять к бинарным файлам."
   ]
  },
  {
   "cell_type": "code",
   "execution_count": 18,
   "metadata": {},
   "outputs": [],
   "source": [
    "try:\n",
    "    with open('test.txt', 'w') as f:\n",
    "        f.writelines([\"One\\n\", \"Two\", \"Three\"])\n",
    "except IOError:\n",
    "    print('IOError')"
   ]
  },
  {
   "cell_type": "code",
   "execution_count": null,
   "metadata": {},
   "outputs": [],
   "source": [
    "%pycat test.txt"
   ]
  },
  {
   "cell_type": "markdown",
   "metadata": {},
   "source": [
    "#### Метод flush()\n",
    "Форсирование буфферизации."
   ]
  },
  {
   "cell_type": "markdown",
   "metadata": {},
   "source": [
    "#### Метод seek(offset, from_what=0)\n",
    "Делает смещение на offset байтов, относительно позиции from_what (0 — начало файла; 1 — текущая позиция)."
   ]
  },
  {
   "cell_type": "markdown",
   "metadata": {},
   "source": [
    "#### Метод tell()\n",
    "Возвращает текущую позицию указателя в файле"
   ]
  },
  {
   "cell_type": "markdown",
   "metadata": {},
   "source": [
    "### Пример"
   ]
  },
  {
   "cell_type": "markdown",
   "metadata": {},
   "source": [
    "В файле хранится статистика по пассажирам Титаника.\n",
    "\n",
    "Исходные данные были взяты [тут](https://www.kaggle.com/c/titanic/data).\n",
    "\n",
    "Перепишем в новый файл все записи с указанием кают. Остальные записи будем пропускать."
   ]
  },
  {
   "cell_type": "code",
   "execution_count": 19,
   "metadata": {},
   "outputs": [],
   "source": [
    "try:\n",
    "    with open('data/titanic.csv', 'r') as f_input, open('result.csv', 'w') as f_output:\n",
    "        header = f_input.readline()\n",
    "        f_output.write(header)\n",
    "        data = f_input.readlines()\n",
    "        for line in data:        \n",
    "            cabin = line[line.rfind(\",\") + 1:-1]\n",
    "            if cabin:\n",
    "                f_output.write(line)\n",
    "except IOError:\n",
    "    print('IOError')"
   ]
  },
  {
   "cell_type": "code",
   "execution_count": null,
   "metadata": {},
   "outputs": [],
   "source": []
  }
 ],
 "metadata": {
  "kernelspec": {
   "display_name": "Python 3 (ipykernel)",
   "language": "python",
   "name": "python3"
  },
  "language_info": {
   "codemirror_mode": {
    "name": "ipython",
    "version": 3
   },
   "file_extension": ".py",
   "mimetype": "text/x-python",
   "name": "python",
   "nbconvert_exporter": "python",
   "pygments_lexer": "ipython3",
   "version": "3.9.13"
  }
 },
 "nbformat": 4,
 "nbformat_minor": 4
}
