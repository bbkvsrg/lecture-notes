{
 "cells": [
  {
   "cell_type": "code",
   "execution_count": 9,
   "id": "dd8b3b64-9227-4341-9fe7-5b8adfe408a0",
   "metadata": {},
   "outputs": [
    {
     "name": "stdin",
     "output_type": "stream",
     "text": [
      "Введите N:  3\n"
     ]
    }
   ],
   "source": [
    "k = int(input(\"Введите N: \"))\n",
    "\n",
    "#Считаем, сколько у нас в словаре будет строк\n",
    "def С(k):\n",
    "    n = 26\n",
    "    if 0 <= k <= n:\n",
    "        nn = 1\n",
    "        kk = 1\n",
    "        for t in range(1, min(k, n - k) + 1):\n",
    "            nn *= n\n",
    "            kk *= t\n",
    "            n -= 1\n",
    "        return nn // kk\n",
    "    else:\n",
    "        return 0\n",
    "\n",
    "dict_size = С(k)"
   ]
  },
  {
   "cell_type": "code",
   "execution_count": null,
   "id": "01a112fd-d85b-4d28-a685-e4c5e5f37c63",
   "metadata": {},
   "outputs": [],
   "source": [
    "dictionary = {}\n",
    "print(\"Это я задала словарь, потом буду туда записывать что-то:\")\n",
    "print(dictionary) # пока работает\n",
    "print(\"\\n\")\n",
    "\n",
    "for str_num in range(dict_size):\n",
    "    for lett_num in range(N):\n",
    "                 str = str+\n",
    "\n",
    "def generate(n,m,last=0,res=''):\n",
    "    if len(res)==m:\n",
    "        print(res)\n",
    "        dictionary.update({tuple([len(dictionary)+1, res]) : set(res),})\n",
    "        return\n",
    "    for i in range(last+1, n-(m-len(res))+2):\n",
    "        generate(n,m,i,res+str(chr(96+i)))\n",
    "                   \n",
    "for k in range(N + 1):\n",
    "    generate(N,k)\n",
    "    \n",
    "print(dictionary)"
   ]
  },
  {
   "cell_type": "code",
   "execution_count": null,
   "id": "087ec0a6-ea83-4182-a0cd-474b2ebea2c6",
   "metadata": {},
   "outputs": [],
   "source": []
  }
 ],
 "metadata": {
  "kernelspec": {
   "display_name": "Python 3 (ipykernel)",
   "language": "python",
   "name": "python3"
  },
  "language_info": {
   "codemirror_mode": {
    "name": "ipython",
    "version": 3
   },
   "file_extension": ".py",
   "mimetype": "text/x-python",
   "name": "python",
   "nbconvert_exporter": "python",
   "pygments_lexer": "ipython3",
   "version": "3.9.13"
  }
 },
 "nbformat": 4,
 "nbformat_minor": 5
}
